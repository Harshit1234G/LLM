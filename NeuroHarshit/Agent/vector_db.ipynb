{
 "cells": [
  {
   "cell_type": "code",
   "execution_count": 1,
   "id": "ee144c4a",
   "metadata": {},
   "outputs": [],
   "source": [
    "import faiss\n",
    "from langchain_community.document_loaders import DirectoryLoader\n",
    "from langchain_openai import OpenAIEmbeddings\n",
    "from langchain_text_splitters import RecursiveCharacterTextSplitter\n",
    "from langchain_community.vectorstores import FAISS\n",
    "from langchain_community.docstore.in_memory import InMemoryDocstore"
   ]
  },
  {
   "cell_type": "code",
   "execution_count": 2,
   "id": "5e9c180d",
   "metadata": {},
   "outputs": [],
   "source": [
    "DATA_DIR = r\"E:\\Python\\LLM\\NeuroHarshit\\Databases\\text_data\"\n",
    "EMBEDDING_MODEL = 'text-embedding-3-large'"
   ]
  },
  {
   "cell_type": "markdown",
   "id": "87522a2b",
   "metadata": {},
   "source": [
    "## Loading directory"
   ]
  },
  {
   "cell_type": "code",
   "execution_count": 3,
   "id": "8a950c3a",
   "metadata": {},
   "outputs": [
    {
     "name": "stderr",
     "output_type": "stream",
     "text": [
      "  0%|          | 0/8 [00:00<?, ?it/s]"
     ]
    },
    {
     "name": "stderr",
     "output_type": "stream",
     "text": [
      "libmagic is unavailable but assists in filetype detection. Please consider installing libmagic for better results.\n",
      "libmagic is unavailable but assists in filetype detection. Please consider installing libmagic for better results.\n",
      "libmagic is unavailable but assists in filetype detection. Please consider installing libmagic for better results.\n",
      "libmagic is unavailable but assists in filetype detection. Please consider installing libmagic for better results.\n",
      "Need to load profiles.\n",
      "Need to load profiles.\n",
      "short text: \"Certifications:\". Defaulting to English.\n",
      "Need to load profiles.\n",
      "Need to load profiles.\n",
      "Need to load profiles.\n",
      "short text: \"Score: 90%\". Defaulting to English.\n",
      "Need to load profiles.\n",
      "Need to load profiles.\n",
      "Need to load profiles.\n",
      "short text: \"Experience:\". Defaulting to English.\n",
      "Need to load profiles.\n",
      "Need to load profiles.\n",
      "short text: \"Score: 91%\". Defaulting to English.\n",
      "Need to load profiles.\n",
      "Need to load profiles.\n",
      "Need to load profiles.\n",
      " 12%|█▎        | 1/8 [00:11<01:23, 11.95s/it]short text: \"Description:\". Defaulting to English.\n",
      " 25%|██▌       | 2/8 [00:11<00:45,  7.52s/it]libmagic is unavailable but assists in filetype detection. Please consider installing libmagic for better results.\n",
      "libmagic is unavailable but assists in filetype detection. Please consider installing libmagic for better results.\n",
      " 50%|█████     | 4/8 [00:12<00:14,  3.72s/it]libmagic is unavailable but assists in filetype detection. Please consider installing libmagic for better results.\n",
      " 75%|███████▌  | 6/8 [00:12<00:03,  1.82s/it]libmagic is unavailable but assists in filetype detection. Please consider installing libmagic for better results.\n",
      "short text: \"Skills:\". Defaulting to English.\n",
      "short text: \"Programming Languages: Python\". Defaulting to English.\n",
      "short text: \"Databases: SQLite, FAISS, Chroma\". Defaulting to English.\n",
      "short text: \"GUI Development: Tkinter, CustomTkinter\". Defaulting to English.\n",
      "short text: \"Soft Skills: Problem-Solving, Self-Learning\". Defaulting to English.\n",
      "100%|██████████| 8/8 [00:13<00:00,  1.68s/it]\n"
     ]
    }
   ],
   "source": [
    "loader = DirectoryLoader(\n",
    "    path= DATA_DIR,\n",
    "    show_progress= True,\n",
    "    use_multithreading= True\n",
    ")\n",
    "docs = loader.load()"
   ]
  },
  {
   "cell_type": "code",
   "execution_count": 4,
   "id": "bce12d28",
   "metadata": {},
   "outputs": [
    {
     "data": {
      "text/plain": [
       "8"
      ]
     },
     "execution_count": 4,
     "metadata": {},
     "output_type": "execute_result"
    }
   ],
   "source": [
    "len(docs)"
   ]
  },
  {
   "cell_type": "markdown",
   "id": "3432399c",
   "metadata": {},
   "source": [
    "## Chunking"
   ]
  },
  {
   "cell_type": "code",
   "execution_count": 5,
   "id": "64ff0b88",
   "metadata": {},
   "outputs": [],
   "source": [
    "splitter = RecursiveCharacterTextSplitter(\n",
    "    chunk_size= 500,\n",
    "    chunk_overlap= 50\n",
    ")\n",
    "\n",
    "chunks = splitter.split_documents(docs)"
   ]
  },
  {
   "cell_type": "code",
   "execution_count": 6,
   "id": "dfb3095e",
   "metadata": {},
   "outputs": [
    {
     "data": {
      "text/plain": [
       "42"
      ]
     },
     "execution_count": 6,
     "metadata": {},
     "output_type": "execute_result"
    }
   ],
   "source": [
    "len(chunks)"
   ]
  },
  {
   "cell_type": "markdown",
   "id": "0e507ced",
   "metadata": {},
   "source": [
    "## Vector DB"
   ]
  },
  {
   "cell_type": "code",
   "execution_count": 7,
   "id": "22389fe9",
   "metadata": {},
   "outputs": [],
   "source": [
    "embeddings = OpenAIEmbeddings(model= EMBEDDING_MODEL)\n",
    "sample = embeddings.embed_query('hello world')\n",
    "length = len(sample)"
   ]
  },
  {
   "cell_type": "code",
   "execution_count": 8,
   "id": "f4b63061",
   "metadata": {},
   "outputs": [
    {
     "data": {
      "text/plain": [
       "3072"
      ]
     },
     "execution_count": 8,
     "metadata": {},
     "output_type": "execute_result"
    }
   ],
   "source": [
    "length"
   ]
  },
  {
   "cell_type": "code",
   "execution_count": 9,
   "id": "4257bd9d",
   "metadata": {},
   "outputs": [],
   "source": [
    "index = faiss.IndexFlatL2(length)"
   ]
  },
  {
   "cell_type": "code",
   "execution_count": 10,
   "id": "f381115d",
   "metadata": {},
   "outputs": [],
   "source": [
    "vector_store = FAISS(\n",
    "    embedding_function= embeddings,\n",
    "    index= index,\n",
    "    docstore= InMemoryDocstore(),\n",
    "    index_to_docstore_id= {}\n",
    ")"
   ]
  },
  {
   "cell_type": "code",
   "execution_count": 11,
   "id": "0b64595f",
   "metadata": {},
   "outputs": [
    {
     "data": {
      "text/plain": [
       "['a3a00887-b3ca-49ed-8229-18c057de2cf5',\n",
       " '0ccb1ddc-e021-436a-9c4b-37a71352e8bc',\n",
       " 'b70b2a98-63b1-406a-a05b-bc6f04dcaff3',\n",
       " 'a1d08d0e-bb05-435c-bbb8-b0319864c602',\n",
       " '55dafeb7-8228-4f6d-9486-f85eb2eecae8',\n",
       " '57281f00-e768-426d-9cbc-8d98663aa4e6',\n",
       " '51ba9788-6c33-4e3e-b5e2-0e251d77abf6',\n",
       " '6d8aff9b-b837-494f-a2e6-133a2f909e3b',\n",
       " '7a0f0805-12cb-4dc5-8137-480c323b7888',\n",
       " 'ae46efa4-f505-4af2-b5cc-589b68c7cebb',\n",
       " '2b562f50-c6a8-4c22-993f-b918eeee9bad',\n",
       " 'e78a2d63-e3c9-402a-8378-d3c08c3a6c37',\n",
       " 'a49b3387-e904-4c71-9d8f-93ac5bbfbf23',\n",
       " '10670348-d1ab-48ac-b116-51a15741f905',\n",
       " '8133e323-afdd-4fe4-a8f9-f5aca9809ade',\n",
       " 'c992c060-ad71-435c-bccd-906023690c4a',\n",
       " '71063a8b-acf2-4b96-a693-a3c004a1b755',\n",
       " '5751c4c5-4533-48ee-8465-f60e94254941',\n",
       " '410ddcd3-6786-4e53-b14d-0568698e8d45',\n",
       " '412e9a47-c3c4-4366-b929-541fb51d38ac',\n",
       " 'e0b4f162-1b85-4619-9959-5c10d106ca75',\n",
       " 'b942fb96-4ee5-459e-b85c-4644c4e10731',\n",
       " 'f39016f0-45f0-4bf5-b1ac-74ff4e9d3e58',\n",
       " '52ce4789-f7da-40ce-bf02-99277ae39e95',\n",
       " 'c32329d1-aaac-4905-a14b-8540b81127e1',\n",
       " '4386dd11-60e9-49d3-b0d3-996e1dac73b4',\n",
       " '63854c31-8b4d-4712-ab99-e26889bade81',\n",
       " 'aa7073e9-1e3b-41e0-8059-0ee9417f7576',\n",
       " 'e482455e-675a-4b29-8022-032855477985',\n",
       " '49c3c2e7-3f2c-47db-a2a9-9502b6b39698',\n",
       " '6854a955-f5da-46df-8ac8-6a90d080a144',\n",
       " '36ffb034-915d-4c42-9eeb-1357a8dd0ea1',\n",
       " '0b6a54c9-d92c-4a6b-89a4-92f9ea3524d2',\n",
       " '4af345a8-535a-4fe3-a7d9-db2713f7052a',\n",
       " 'f8b13862-3cf5-433f-8625-71f0c7455584',\n",
       " '4430f0f0-1cc6-4560-bfb8-3581ea0221ca',\n",
       " '9c637ccf-5ab8-479c-b571-8e3f0b382c4f',\n",
       " '5d10e306-c41c-4e08-8c19-7af4e17d2e6c',\n",
       " '5374c20c-eb1d-451e-81a0-78c580a8c5ff',\n",
       " '3e6845e3-de96-4130-9080-b46063aa62df',\n",
       " 'ffc1f0bc-8478-4646-b75f-ccfba61d68fe',\n",
       " 'd441e9ea-6e67-4ae9-bb99-cc44ba879033']"
      ]
     },
     "execution_count": 11,
     "metadata": {},
     "output_type": "execute_result"
    }
   ],
   "source": [
    "vector_store.add_documents(chunks)"
   ]
  },
  {
   "cell_type": "code",
   "execution_count": 12,
   "id": "5bf710f0",
   "metadata": {},
   "outputs": [],
   "source": [
    "vector_store.save_local(r'E:\\Python\\LLM\\NeuroHarshit\\Databases\\faiss_index')"
   ]
  },
  {
   "cell_type": "code",
   "execution_count": null,
   "id": "1a068732",
   "metadata": {},
   "outputs": [],
   "source": []
  }
 ],
 "metadata": {
  "kernelspec": {
   "display_name": "llm_env",
   "language": "python",
   "name": "python3"
  },
  "language_info": {
   "codemirror_mode": {
    "name": "ipython",
    "version": 3
   },
   "file_extension": ".py",
   "mimetype": "text/x-python",
   "name": "python",
   "nbconvert_exporter": "python",
   "pygments_lexer": "ipython3",
   "version": "3.12.7"
  }
 },
 "nbformat": 4,
 "nbformat_minor": 5
}
