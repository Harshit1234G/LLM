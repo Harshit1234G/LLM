{
 "cells": [
  {
   "cell_type": "code",
   "execution_count": 1,
   "id": "ee144c4a",
   "metadata": {},
   "outputs": [],
   "source": [
    "import faiss\n",
    "from langchain_community.document_loaders import DirectoryLoader\n",
    "from langchain_openai import OpenAIEmbeddings\n",
    "from langchain_text_splitters import RecursiveCharacterTextSplitter\n",
    "from langchain_community.vectorstores import FAISS\n",
    "from langchain_community.docstore.in_memory import InMemoryDocstore"
   ]
  },
  {
   "cell_type": "code",
   "execution_count": 2,
   "id": "5e9c180d",
   "metadata": {},
   "outputs": [],
   "source": [
    "DATA_DIR = r\"E:\\Python\\LLM\\NeuroHarshit\\Databases\\text_data\"\n",
    "EMBEDDING_MODEL = 'text-embedding-3-large'"
   ]
  },
  {
   "cell_type": "markdown",
   "id": "87522a2b",
   "metadata": {},
   "source": [
    "## Loading directory"
   ]
  },
  {
   "cell_type": "code",
   "execution_count": 3,
   "id": "8a950c3a",
   "metadata": {},
   "outputs": [
    {
     "name": "stderr",
     "output_type": "stream",
     "text": [
      "  0%|          | 0/8 [00:00<?, ?it/s]"
     ]
    },
    {
     "name": "stderr",
     "output_type": "stream",
     "text": [
      "libmagic is unavailable but assists in filetype detection. Please consider installing libmagic for better results.\n",
      "libmagic is unavailable but assists in filetype detection. Please consider installing libmagic for better results.\n",
      "libmagic is unavailable but assists in filetype detection. Please consider installing libmagic for better results.\n",
      "libmagic is unavailable but assists in filetype detection. Please consider installing libmagic for better results.\n",
      "Need to load profiles.\n",
      "short text: \"Education:\". Defaulting to English.\n",
      "Need to load profiles.\n",
      "Need to load profiles.\n",
      "short text: \"Experience:\". Defaulting to English.\n",
      " 12%|█▎        | 1/8 [00:04<00:28,  4.10s/it]short text: \"Duration: 2022 - 2025\". Defaulting to English.\n",
      "short text: \"Description:\". Defaulting to English.\n",
      "short text: \"CGPA: 8.64\". Defaulting to English.\n",
      "libmagic is unavailable but assists in filetype detection. Please consider installing libmagic for better results.\n",
      "short text: \"Year of completion: 2022\". Defaulting to English.\n",
      "libmagic is unavailable but assists in filetype detection. Please consider installing libmagic for better results.\n",
      "short text: \"Percentage: 87.00%\". Defaulting to English.\n",
      "short text: \"3. Secondary (Class X):\". Defaulting to English.\n",
      " 38%|███▊      | 3/8 [00:04<00:05,  1.10s/it]short text: \"Year of completion: 2020\". Defaulting to English.\n",
      "short text: \"Percentage: 90.83%\". Defaulting to English.\n",
      "libmagic is unavailable but assists in filetype detection. Please consider installing libmagic for better results.\n",
      "libmagic is unavailable but assists in filetype detection. Please consider installing libmagic for better results.\n",
      "100%|██████████| 8/8 [00:04<00:00,  1.75it/s]\n"
     ]
    }
   ],
   "source": [
    "loader = DirectoryLoader(\n",
    "    path= DATA_DIR,\n",
    "    show_progress= True,\n",
    "    use_multithreading= True\n",
    ")\n",
    "docs = loader.load()"
   ]
  },
  {
   "cell_type": "code",
   "execution_count": 4,
   "id": "bce12d28",
   "metadata": {},
   "outputs": [
    {
     "data": {
      "text/plain": [
       "8"
      ]
     },
     "execution_count": 4,
     "metadata": {},
     "output_type": "execute_result"
    }
   ],
   "source": [
    "len(docs)"
   ]
  },
  {
   "cell_type": "markdown",
   "id": "3432399c",
   "metadata": {},
   "source": [
    "## Chunking"
   ]
  },
  {
   "cell_type": "code",
   "execution_count": 5,
   "id": "64ff0b88",
   "metadata": {},
   "outputs": [],
   "source": [
    "splitter = RecursiveCharacterTextSplitter(\n",
    "    chunk_size= 500,\n",
    "    chunk_overlap= 50\n",
    ")\n",
    "\n",
    "chunks = splitter.split_documents(docs)"
   ]
  },
  {
   "cell_type": "code",
   "execution_count": 6,
   "id": "dfb3095e",
   "metadata": {},
   "outputs": [
    {
     "data": {
      "text/plain": [
       "29"
      ]
     },
     "execution_count": 6,
     "metadata": {},
     "output_type": "execute_result"
    }
   ],
   "source": [
    "len(chunks)"
   ]
  },
  {
   "cell_type": "markdown",
   "id": "0e507ced",
   "metadata": {},
   "source": [
    "## Vector DB"
   ]
  },
  {
   "cell_type": "code",
   "execution_count": 7,
   "id": "22389fe9",
   "metadata": {},
   "outputs": [],
   "source": [
    "embeddings = OpenAIEmbeddings(model= EMBEDDING_MODEL)\n",
    "sample = embeddings.embed_query('hello world')\n",
    "length = len(sample)"
   ]
  },
  {
   "cell_type": "code",
   "execution_count": 8,
   "id": "f4b63061",
   "metadata": {},
   "outputs": [
    {
     "data": {
      "text/plain": [
       "3072"
      ]
     },
     "execution_count": 8,
     "metadata": {},
     "output_type": "execute_result"
    }
   ],
   "source": [
    "length"
   ]
  },
  {
   "cell_type": "code",
   "execution_count": 9,
   "id": "4257bd9d",
   "metadata": {},
   "outputs": [],
   "source": [
    "index = faiss.IndexFlatL2(length)"
   ]
  },
  {
   "cell_type": "code",
   "execution_count": 10,
   "id": "f381115d",
   "metadata": {},
   "outputs": [],
   "source": [
    "vector_store = FAISS(\n",
    "    embedding_function= embeddings,\n",
    "    index= index,\n",
    "    docstore= InMemoryDocstore(),\n",
    "    index_to_docstore_id= {}\n",
    ")"
   ]
  },
  {
   "cell_type": "code",
   "execution_count": 11,
   "id": "0b64595f",
   "metadata": {},
   "outputs": [
    {
     "data": {
      "text/plain": [
       "['79e12d59-a3eb-4891-baad-53bd4d3b4dd2',\n",
       " '27ac11e9-fdd3-455c-9f17-31090e93e728',\n",
       " 'e724bcc3-7254-4d4d-a4e7-1bbd672042f5',\n",
       " '45350841-5fe2-4c4e-8692-350e67f68214',\n",
       " '58cae3eb-c5d1-494c-aea3-b4f9b7f2f6cc',\n",
       " '5346d4e3-fb1b-4550-b261-d666d8525edd',\n",
       " 'bc468e86-004d-46bb-8e7e-b893cc5bd3da',\n",
       " '32549ffc-0629-4810-b5ef-a3c90ccf7fbe',\n",
       " '2d30b260-9906-4d47-9524-a189447af37c',\n",
       " '00b0258f-5046-47b6-b305-44161c86f55c',\n",
       " 'f4443e6c-44ab-4c81-a76b-562db0836a6d',\n",
       " '2e78bd6e-d3e7-4a71-bfa1-42319e37c22a',\n",
       " '62f772cf-66d5-4c1e-98d0-a00465808166',\n",
       " 'c2be11fc-ec03-4ac2-8702-581297e0f166',\n",
       " '378533ac-568f-4d5e-ab9b-446124d3423a',\n",
       " '718739fc-a559-4fdc-8e1f-2d818afa4208',\n",
       " '64335207-c813-492f-ad92-a8ba9328d869',\n",
       " 'f99527fa-a763-46b7-a91c-9351ce833995',\n",
       " '2347c7a8-de40-401c-8a66-dd4a1f1db089',\n",
       " 'd8dd3b48-7551-40be-8489-ba86dd0cf203',\n",
       " '263da7a2-37ae-4976-ac1b-0dbdc3a028da',\n",
       " '2197297d-ab77-4964-9c03-eda8244a3579',\n",
       " 'f5f928c4-3fee-456c-beba-4feace7ee016',\n",
       " 'f6ab9e9e-d889-4a35-9824-b7e31895c6a4',\n",
       " '5b684f14-6a3d-4c4e-8516-a9c992762227',\n",
       " '6f6181ab-6e30-4bec-9a06-3acb0dbc13f2',\n",
       " '961c0f77-b0b3-4d80-8f97-232f61f57ee3',\n",
       " 'd91cf7f4-d89a-4656-85d7-cbc03d20ee60',\n",
       " '1d1872b0-360b-428a-bbba-9927da6c4ded']"
      ]
     },
     "execution_count": 11,
     "metadata": {},
     "output_type": "execute_result"
    }
   ],
   "source": [
    "vector_store.add_documents(chunks)"
   ]
  },
  {
   "cell_type": "code",
   "execution_count": 12,
   "id": "5bf710f0",
   "metadata": {},
   "outputs": [],
   "source": [
    "vector_store.save_local(r'E:\\Python\\LLM\\NeuroHarshit\\Databases\\faiss_index')"
   ]
  },
  {
   "cell_type": "code",
   "execution_count": null,
   "id": "1a068732",
   "metadata": {},
   "outputs": [],
   "source": []
  }
 ],
 "metadata": {
  "kernelspec": {
   "display_name": "llm_env",
   "language": "python",
   "name": "python3"
  },
  "language_info": {
   "codemirror_mode": {
    "name": "ipython",
    "version": 3
   },
   "file_extension": ".py",
   "mimetype": "text/x-python",
   "name": "python",
   "nbconvert_exporter": "python",
   "pygments_lexer": "ipython3",
   "version": "3.12.7"
  }
 },
 "nbformat": 4,
 "nbformat_minor": 5
}
