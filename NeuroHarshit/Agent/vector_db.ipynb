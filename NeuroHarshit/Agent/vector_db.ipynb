{
 "cells": [
  {
   "cell_type": "code",
   "execution_count": 1,
   "id": "ee144c4a",
   "metadata": {},
   "outputs": [],
   "source": [
    "import faiss\n",
    "from langchain_community.document_loaders import DirectoryLoader\n",
    "from langchain_openai import OpenAIEmbeddings\n",
    "from langchain_text_splitters import RecursiveCharacterTextSplitter\n",
    "from langchain_community.vectorstores import FAISS\n",
    "from langchain_community.docstore.in_memory import InMemoryDocstore"
   ]
  },
  {
   "cell_type": "code",
   "execution_count": 12,
   "id": "5e9c180d",
   "metadata": {},
   "outputs": [],
   "source": [
    "DATA_DIR = r\"E:\\Python\\LLM\\NeuroHarshit\\Databases\\text_data\"\n",
    "EMBEDDING_MODEL = 'text-embedding-3-large'"
   ]
  },
  {
   "cell_type": "markdown",
   "id": "87522a2b",
   "metadata": {},
   "source": [
    "## Loading directory"
   ]
  },
  {
   "cell_type": "code",
   "execution_count": 3,
   "id": "8a950c3a",
   "metadata": {},
   "outputs": [
    {
     "name": "stderr",
     "output_type": "stream",
     "text": [
      "  0%|          | 0/8 [00:00<?, ?it/s]"
     ]
    },
    {
     "name": "stderr",
     "output_type": "stream",
     "text": [
      "libmagic is unavailable but assists in filetype detection. Please consider installing libmagic for better results.\n",
      "libmagic is unavailable but assists in filetype detection. Please consider installing libmagic for better results.\n",
      "libmagic is unavailable but assists in filetype detection. Please consider installing libmagic for better results.\n",
      "libmagic is unavailable but assists in filetype detection. Please consider installing libmagic for better results.\n",
      "Need to load profiles.\n",
      "short text: \"Education:\". Defaulting to English.\n",
      "Need to load profiles.\n",
      "Need to load profiles.\n",
      "short text: \"Experience:\". Defaulting to English.\n",
      "Need to load profiles.\n",
      "short text: \"Description:\". Defaulting to English.\n",
      " 12%|█▎        | 1/8 [00:05<00:41,  5.99s/it]short text: \"Duration: 2022 - 2025\". Defaulting to English.\n",
      " 25%|██▌       | 2/8 [00:06<00:22,  3.78s/it]short text: \"CGPA: 8.64\". Defaulting to English.\n",
      "short text: \"Year of completion: 2022\". Defaulting to English.\n",
      "short text: \"Percentage: 87.00%3\". Defaulting to English.\n",
      "short text: \"3. Secondary (Class X):\". Defaulting to English.\n",
      "short text: \"Year of completion: 2020\". Defaulting to English.\n",
      "short text: \"Percentage: 90.83%\". Defaulting to English.\n",
      "libmagic is unavailable but assists in filetype detection. Please consider installing libmagic for better results.\n",
      "libmagic is unavailable but assists in filetype detection. Please consider installing libmagic for better results.\n",
      "short text: \"Spending time in nature\". Defaulting to English.\n",
      "libmagic is unavailable but assists in filetype detection. Please consider installing libmagic for better results.\n",
      " 50%|█████     | 4/8 [00:06<00:07,  1.87s/it]short text: \"Playing video games\". Defaulting to English.\n",
      "short text: \"Listening to music\". Defaulting to English.\n",
      "libmagic is unavailable but assists in filetype detection. Please consider installing libmagic for better results.\n",
      "100%|██████████| 8/8 [00:06<00:00,  1.23it/s]\n"
     ]
    }
   ],
   "source": [
    "loader = DirectoryLoader(\n",
    "    path= DATA_DIR,\n",
    "    show_progress= True,\n",
    "    use_multithreading= True\n",
    ")\n",
    "docs = loader.load()"
   ]
  },
  {
   "cell_type": "code",
   "execution_count": 6,
   "id": "bce12d28",
   "metadata": {},
   "outputs": [
    {
     "data": {
      "text/plain": [
       "8"
      ]
     },
     "execution_count": 6,
     "metadata": {},
     "output_type": "execute_result"
    }
   ],
   "source": [
    "len(docs)"
   ]
  },
  {
   "cell_type": "markdown",
   "id": "3432399c",
   "metadata": {},
   "source": [
    "## Chunking"
   ]
  },
  {
   "cell_type": "code",
   "execution_count": 10,
   "id": "64ff0b88",
   "metadata": {},
   "outputs": [],
   "source": [
    "splitter = RecursiveCharacterTextSplitter(\n",
    "    chunk_size= 500,\n",
    "    chunk_overlap= 50\n",
    ")\n",
    "\n",
    "chunks = splitter.split_documents(docs)"
   ]
  },
  {
   "cell_type": "code",
   "execution_count": 11,
   "id": "dfb3095e",
   "metadata": {},
   "outputs": [
    {
     "data": {
      "text/plain": [
       "33"
      ]
     },
     "execution_count": 11,
     "metadata": {},
     "output_type": "execute_result"
    }
   ],
   "source": [
    "len(chunks)"
   ]
  },
  {
   "cell_type": "markdown",
   "id": "0e507ced",
   "metadata": {},
   "source": [
    "## Vector DB"
   ]
  },
  {
   "cell_type": "code",
   "execution_count": 16,
   "id": "22389fe9",
   "metadata": {},
   "outputs": [],
   "source": [
    "embeddings = OpenAIEmbeddings(model= EMBEDDING_MODEL)\n",
    "sample = embeddings.embed_query('hello world')\n",
    "length = len(sample)"
   ]
  },
  {
   "cell_type": "code",
   "execution_count": 18,
   "id": "f4b63061",
   "metadata": {},
   "outputs": [
    {
     "data": {
      "text/plain": [
       "3072"
      ]
     },
     "execution_count": 18,
     "metadata": {},
     "output_type": "execute_result"
    }
   ],
   "source": [
    "length"
   ]
  },
  {
   "cell_type": "code",
   "execution_count": 17,
   "id": "4257bd9d",
   "metadata": {},
   "outputs": [],
   "source": [
    "index = faiss.IndexFlatL2(length)"
   ]
  },
  {
   "cell_type": "code",
   "execution_count": 19,
   "id": "f381115d",
   "metadata": {},
   "outputs": [],
   "source": [
    "vector_store = FAISS(\n",
    "    embedding_function= embeddings,\n",
    "    index= index,\n",
    "    docstore= InMemoryDocstore(),\n",
    "    index_to_docstore_id= {}\n",
    ")"
   ]
  },
  {
   "cell_type": "code",
   "execution_count": 20,
   "id": "0b64595f",
   "metadata": {},
   "outputs": [
    {
     "data": {
      "text/plain": [
       "['2a4d565c-aaee-4d1c-b95d-2563f53495d2',\n",
       " '70d76419-4bd7-473e-96f7-d010326ca0dd',\n",
       " 'd4f1a90a-754e-4cae-9adf-b20c3ea4c180',\n",
       " 'a876d601-00c6-458c-9086-c549f97a0377',\n",
       " '0f0ecf87-7df2-42d6-a584-a72f519bde05',\n",
       " '88ed047e-d0c4-446b-818f-020d28a668da',\n",
       " '74edc03c-6c7e-44bf-b0af-2f45c3a58353',\n",
       " '6cced245-2ca7-4562-8729-a6db5130d3c8',\n",
       " '378e7bfa-02c6-4cba-8519-fa77b53c03bc',\n",
       " '50bc3cf7-97a4-4551-bda1-ee934e92493c',\n",
       " '1cabc242-b1b6-4dac-a02d-550a59f36bb6',\n",
       " '03e358df-17a6-4129-bac6-45d99aef89bf',\n",
       " '9b1f9ba6-0201-47f6-90c7-866fa221c931',\n",
       " 'd940497d-d1e2-469a-bd1c-8fc8e2fba699',\n",
       " '2662b9c0-8689-42c4-ab70-caafc166d8d1',\n",
       " 'bade38bf-39e7-4d16-8c0c-91b5a1929495',\n",
       " '59f0e37e-8812-46e1-9df8-1c6d928f32af',\n",
       " 'fd06ce6b-1822-49c1-b560-681e153158d8',\n",
       " '471bebf7-d532-4987-bceb-5c7b82eeb95f',\n",
       " '00daeae7-11f0-48fc-8226-7d812ca93ad1',\n",
       " '40083aa2-de7b-4a33-a66b-ce5ba8bb7ba1',\n",
       " '67df4c31-9c1c-47dc-ae20-49452f4d16e2',\n",
       " 'd8ba4cf3-c7e2-4203-89f6-577b0dbbfb58',\n",
       " '399ecacf-f1b4-484b-9a63-b064eee48d14',\n",
       " 'ad5295c5-7747-4633-a880-944b58f08309',\n",
       " 'e1c2bc00-6427-42f8-b067-02b9bd45e136',\n",
       " '6b8a2b33-ee1d-4425-af79-3d1b561e8c8e',\n",
       " 'bcd1da76-6ab4-4af5-8e6f-6c01a8b44298',\n",
       " '675b5dc4-ef25-4c10-b793-6b52d2ef3619',\n",
       " '68d7cf91-2046-45e8-943e-8ac9ee95a2cc',\n",
       " '19a2279a-48d4-4d30-ac58-70592db86cd7',\n",
       " 'd55702b2-9e39-4541-9327-4c98aa7f3aa5',\n",
       " '2db38caa-a239-43a2-8241-191f11aaa157']"
      ]
     },
     "execution_count": 20,
     "metadata": {},
     "output_type": "execute_result"
    }
   ],
   "source": [
    "vector_store.add_documents(chunks)"
   ]
  },
  {
   "cell_type": "code",
   "execution_count": 21,
   "id": "5bf710f0",
   "metadata": {},
   "outputs": [],
   "source": [
    "vector_store.save_local(r'E:\\Python\\LLM\\NeuroHarshit\\Databases\\faiss_index')"
   ]
  },
  {
   "cell_type": "code",
   "execution_count": null,
   "id": "1a068732",
   "metadata": {},
   "outputs": [],
   "source": []
  }
 ],
 "metadata": {
  "kernelspec": {
   "display_name": "llm_env",
   "language": "python",
   "name": "python3"
  },
  "language_info": {
   "codemirror_mode": {
    "name": "ipython",
    "version": 3
   },
   "file_extension": ".py",
   "mimetype": "text/x-python",
   "name": "python",
   "nbconvert_exporter": "python",
   "pygments_lexer": "ipython3",
   "version": "3.12.7"
  }
 },
 "nbformat": 4,
 "nbformat_minor": 5
}
