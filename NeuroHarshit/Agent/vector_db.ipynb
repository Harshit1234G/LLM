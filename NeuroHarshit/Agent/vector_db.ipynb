{
 "cells": [
  {
   "cell_type": "code",
   "execution_count": 1,
   "id": "ee144c4a",
   "metadata": {},
   "outputs": [],
   "source": [
    "import faiss\n",
    "from langchain_community.document_loaders import DirectoryLoader\n",
    "from langchain_openai import OpenAIEmbeddings\n",
    "from langchain_text_splitters import RecursiveCharacterTextSplitter\n",
    "from langchain_community.vectorstores import FAISS\n",
    "from langchain_community.docstore.in_memory import InMemoryDocstore"
   ]
  },
  {
   "cell_type": "code",
   "execution_count": 2,
   "id": "5e9c180d",
   "metadata": {},
   "outputs": [],
   "source": [
    "DATA_DIR = r\"E:\\Python\\LLM\\NeuroHarshit\\Databases\\text_data\"\n",
    "EMBEDDING_MODEL = 'text-embedding-3-large'"
   ]
  },
  {
   "cell_type": "markdown",
   "id": "87522a2b",
   "metadata": {},
   "source": [
    "## Loading directory"
   ]
  },
  {
   "cell_type": "code",
   "execution_count": 3,
   "id": "8a950c3a",
   "metadata": {},
   "outputs": [
    {
     "name": "stderr",
     "output_type": "stream",
     "text": [
      "  0%|          | 0/8 [00:00<?, ?it/s]libmagic is unavailable but assists in filetype detection. Please consider installing libmagic for better results.\n",
      "libmagic is unavailable but assists in filetype detection. Please consider installing libmagic for better results.\n",
      "libmagic is unavailable but assists in filetype detection. Please consider installing libmagic for better results.\n",
      "libmagic is unavailable but assists in filetype detection. Please consider installing libmagic for better results.\n",
      "Need to load profiles.\n",
      "Need to load profiles.\n",
      "short text: \"Education:\". Defaulting to English.\n",
      "short text: \"Certifications:\". Defaulting to English.\n",
      "short text: \"Duration: 2022 - 2025\". Defaulting to English.\n",
      "short text: \"CGPA: 8.64\". Defaulting to English.\n",
      "short text: \"Score: 90%\". Defaulting to English.\n",
      "short text: \"Summary:\". Defaulting to English.\n",
      "short text: \"Year of completion: 2022\". Defaulting to English.\n",
      "short text: \"Score: 91%\". Defaulting to English.\n",
      "short text: \"Full Name: Harshit Kumawat\". Defaulting to English.\n",
      " 12%|█▎        | 1/8 [00:04<00:32,  4.70s/it]short text: \"Percentage: 87.00%\". Defaulting to English.\n",
      "short text: \"Date of Birth: 2005-12-30\". Defaulting to English.\n",
      "libmagic is unavailable but assists in filetype detection. Please consider installing libmagic for better results.\n",
      "short text: \"3. Secondary (Class X):\". Defaulting to English.\n",
      " 25%|██▌       | 2/8 [00:04<00:12,  2.01s/it]short text: \"Location: Nathdwara, Rajasthan, India\". Defaulting to English.\n",
      "short text: \"Year of completion: 2020\". Defaulting to English.\n",
      "short text: \"Email: harshitkumawat849@gmail.com\". Defaulting to English.\n",
      "short text: \"Percentage: 90.83%\". Defaulting to English.\n",
      "short text: \"LinkedIN: https://www.linkedin.com/in/harshit-kumawat-8778ba259/\". Defaulting to English.\n",
      "short text: \"Github: https://github.com/Harshit1234G\". Defaulting to English.\n",
      "libmagic is unavailable but assists in filetype detection. Please consider installing libmagic for better results.\n",
      "libmagic is unavailable but assists in filetype detection. Please consider installing libmagic for better results.\n",
      "libmagic is unavailable but assists in filetype detection. Please consider installing libmagic for better results.\n",
      "100%|██████████| 8/8 [00:05<00:00,  1.55it/s]\n"
     ]
    }
   ],
   "source": [
    "loader = DirectoryLoader(\n",
    "    path= DATA_DIR,\n",
    "    show_progress= True,\n",
    "    use_multithreading= True\n",
    ")\n",
    "docs = loader.load()"
   ]
  },
  {
   "cell_type": "code",
   "execution_count": 4,
   "id": "bce12d28",
   "metadata": {},
   "outputs": [
    {
     "data": {
      "text/plain": [
       "8"
      ]
     },
     "execution_count": 4,
     "metadata": {},
     "output_type": "execute_result"
    }
   ],
   "source": [
    "len(docs)"
   ]
  },
  {
   "cell_type": "markdown",
   "id": "3432399c",
   "metadata": {},
   "source": [
    "## Chunking"
   ]
  },
  {
   "cell_type": "code",
   "execution_count": 5,
   "id": "64ff0b88",
   "metadata": {},
   "outputs": [],
   "source": [
    "splitter = RecursiveCharacterTextSplitter(\n",
    "    chunk_size= 500,\n",
    "    chunk_overlap= 50\n",
    ")\n",
    "\n",
    "chunks = splitter.split_documents(docs)"
   ]
  },
  {
   "cell_type": "code",
   "execution_count": 6,
   "id": "dfb3095e",
   "metadata": {},
   "outputs": [
    {
     "data": {
      "text/plain": [
       "38"
      ]
     },
     "execution_count": 6,
     "metadata": {},
     "output_type": "execute_result"
    }
   ],
   "source": [
    "len(chunks)"
   ]
  },
  {
   "cell_type": "markdown",
   "id": "0e507ced",
   "metadata": {},
   "source": [
    "## Vector DB"
   ]
  },
  {
   "cell_type": "code",
   "execution_count": 7,
   "id": "22389fe9",
   "metadata": {},
   "outputs": [],
   "source": [
    "embeddings = OpenAIEmbeddings(model= EMBEDDING_MODEL)\n",
    "sample = embeddings.embed_query('hello world')\n",
    "length = len(sample)"
   ]
  },
  {
   "cell_type": "code",
   "execution_count": 8,
   "id": "f4b63061",
   "metadata": {},
   "outputs": [
    {
     "data": {
      "text/plain": [
       "3072"
      ]
     },
     "execution_count": 8,
     "metadata": {},
     "output_type": "execute_result"
    }
   ],
   "source": [
    "length"
   ]
  },
  {
   "cell_type": "code",
   "execution_count": 9,
   "id": "4257bd9d",
   "metadata": {},
   "outputs": [],
   "source": [
    "index = faiss.IndexFlatL2(length)"
   ]
  },
  {
   "cell_type": "code",
   "execution_count": 10,
   "id": "f381115d",
   "metadata": {},
   "outputs": [],
   "source": [
    "vector_store = FAISS(\n",
    "    embedding_function= embeddings,\n",
    "    index= index,\n",
    "    docstore= InMemoryDocstore(),\n",
    "    index_to_docstore_id= {}\n",
    ")"
   ]
  },
  {
   "cell_type": "code",
   "execution_count": 11,
   "id": "0b64595f",
   "metadata": {},
   "outputs": [
    {
     "data": {
      "text/plain": [
       "['4ba7796c-9772-4574-a0d1-053c64d1d0e6',\n",
       " 'e0cdf01c-414f-4b05-a1bf-ef4cfe1284e6',\n",
       " 'e78967fd-faa6-4f2f-bd11-18cafd636bb0',\n",
       " 'df752a11-7b2d-47a4-9837-3e8dff2344ed',\n",
       " 'd56f59b4-2117-4099-90ce-10c5104479f7',\n",
       " '39dc9cfb-371d-49b8-a466-1c3ab7e40e51',\n",
       " '7fc9a1bb-b9d7-4f28-836a-1bbbd9c3a14c',\n",
       " '59e18a44-953f-4e7f-8fba-9091b77265f1',\n",
       " 'b6ada1ff-bbee-433f-823f-97638846d8fc',\n",
       " 'd4e611ca-d6e7-44a2-b2d0-402bc4fa7590',\n",
       " '7202691b-9536-4f7b-acd5-793eadefb712',\n",
       " '316e2cda-2cdc-4554-b01f-ffb8b275b113',\n",
       " 'a2db3752-eea7-420e-a32e-89560b84a0fc',\n",
       " '7f261fcf-00bf-49d5-8ca2-16b7aba4b55b',\n",
       " '3a13a9b8-0337-4d7c-8567-39edc6ec20dc',\n",
       " '4bc8f475-8b90-441a-96fb-0004bb9d7c2a',\n",
       " '11279426-ea81-4cb9-9105-9eda746daa59',\n",
       " '43b85657-3d7d-4151-a7f5-d40604db44fe',\n",
       " '88337133-38f4-402d-b3b7-eccf958ef742',\n",
       " 'c26797a1-a3b9-4d36-ac93-58227cc91b86',\n",
       " 'c3d1e17f-6123-4ec4-847e-d8509ec2d321',\n",
       " '807762f8-36cf-4db8-9446-970d7789c722',\n",
       " '360fd67e-406d-4f8c-8dd2-795130c9fc54',\n",
       " '9e1f6f06-8379-43ce-8dcb-cebca72ef90d',\n",
       " '71af5ed2-ea21-40ee-87b0-29aa462b7a3a',\n",
       " '05893b25-6d14-41c0-8e1f-72c387c93a75',\n",
       " '4d3880ea-8e28-42db-bf52-0b453d2955e8',\n",
       " '11775ea9-4d1e-4f0a-9f4c-1001fd6aeb3c',\n",
       " '8d89c637-f27a-4802-a169-101abe88cc40',\n",
       " '9b179e89-3025-4510-9ed9-0cbf0e90e878',\n",
       " '43f4fd1d-862d-46f5-85eb-7f8cae3ce1f3',\n",
       " 'dfd0cab6-ea10-4ad8-ba06-f7c6230c52ea',\n",
       " 'df0c7490-bce5-4ecd-9cae-6b1f37831b29',\n",
       " 'a2272ae9-3c8e-47b8-8800-f3ecfeb814da',\n",
       " 'fc8bf59e-0040-4cfb-a8a7-d455e413263e',\n",
       " '639d84bf-43d7-466f-b2e3-71c02c6e65e5',\n",
       " 'ca5214ca-7a78-4ee8-b702-9928fbdf5b50',\n",
       " '8b0766fd-3e39-476e-8585-23e98d943f20']"
      ]
     },
     "execution_count": 11,
     "metadata": {},
     "output_type": "execute_result"
    }
   ],
   "source": [
    "vector_store.add_documents(chunks)"
   ]
  },
  {
   "cell_type": "code",
   "execution_count": 12,
   "id": "5bf710f0",
   "metadata": {},
   "outputs": [],
   "source": [
    "vector_store.save_local(r'E:\\Python\\LLM\\NeuroHarshit\\Databases\\faiss_index')"
   ]
  },
  {
   "cell_type": "code",
   "execution_count": null,
   "id": "1a068732",
   "metadata": {},
   "outputs": [],
   "source": []
  }
 ],
 "metadata": {
  "kernelspec": {
   "display_name": "llm_env",
   "language": "python",
   "name": "python3"
  },
  "language_info": {
   "codemirror_mode": {
    "name": "ipython",
    "version": 3
   },
   "file_extension": ".py",
   "mimetype": "text/x-python",
   "name": "python",
   "nbconvert_exporter": "python",
   "pygments_lexer": "ipython3",
   "version": "3.12.7"
  }
 },
 "nbformat": 4,
 "nbformat_minor": 5
}
