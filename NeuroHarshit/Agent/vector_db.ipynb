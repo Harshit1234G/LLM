{
 "cells": [
  {
   "cell_type": "code",
   "execution_count": 1,
   "id": "ee144c4a",
   "metadata": {},
   "outputs": [],
   "source": [
    "import faiss\n",
    "from langchain_community.document_loaders import DirectoryLoader\n",
    "from langchain_openai import OpenAIEmbeddings\n",
    "from langchain_text_splitters import RecursiveCharacterTextSplitter\n",
    "from langchain_community.vectorstores import FAISS\n",
    "from langchain_community.docstore.in_memory import InMemoryDocstore"
   ]
  },
  {
   "cell_type": "code",
   "execution_count": 2,
   "id": "5e9c180d",
   "metadata": {},
   "outputs": [],
   "source": [
    "DATA_DIR = r\"E:\\Python\\LLM\\NeuroHarshit\\Databases\\text_data\"\n",
    "EMBEDDING_MODEL = 'text-embedding-3-large'"
   ]
  },
  {
   "cell_type": "markdown",
   "id": "87522a2b",
   "metadata": {},
   "source": [
    "## Loading directory"
   ]
  },
  {
   "cell_type": "code",
   "execution_count": 3,
   "id": "8a950c3a",
   "metadata": {},
   "outputs": [
    {
     "name": "stderr",
     "output_type": "stream",
     "text": [
      "  0%|          | 0/8 [00:00<?, ?it/s]"
     ]
    },
    {
     "name": "stderr",
     "output_type": "stream",
     "text": [
      "libmagic is unavailable but assists in filetype detection. Please consider installing libmagic for better results.\n",
      "libmagic is unavailable but assists in filetype detection. Please consider installing libmagic for better results.\n",
      "libmagic is unavailable but assists in filetype detection. Please consider installing libmagic for better results.\n",
      "libmagic is unavailable but assists in filetype detection. Please consider installing libmagic for better results.\n",
      "Need to load profiles.\n",
      "Need to load profiles.\n",
      "short text: \"Certifications:\". Defaulting to English.\n",
      "short text: \"Education:\". Defaulting to English.\n",
      "Need to load profiles.\n",
      " 12%|█▎        | 1/8 [00:05<00:40,  5.80s/it]short text: \"Duration: 2022 - 2025\". Defaulting to English.\n",
      "short text: \"CGPA: 8.64\". Defaulting to English.\n",
      "short text: \"Score: 90%\". Defaulting to English.\n",
      "short text: \"Year of completion: 2022\". Defaulting to English.\n",
      "short text: \"Score: 91%\". Defaulting to English.\n",
      "libmagic is unavailable but assists in filetype detection. Please consider installing libmagic for better results.\n",
      "short text: \"Percentage: 87.00%\". Defaulting to English.\n",
      "short text: \"3. Secondary (Class X):\". Defaulting to English.\n",
      " 38%|███▊      | 3/8 [00:05<00:07,  1.55s/it]libmagic is unavailable but assists in filetype detection. Please consider installing libmagic for better results.\n",
      "short text: \"Year of completion: 2020\". Defaulting to English.\n",
      "short text: \"Percentage: 90.83%\". Defaulting to English.\n",
      "libmagic is unavailable but assists in filetype detection. Please consider installing libmagic for better results.\n",
      "libmagic is unavailable but assists in filetype detection. Please consider installing libmagic for better results.\n",
      "100%|██████████| 8/8 [00:06<00:00,  1.27it/s]\n"
     ]
    }
   ],
   "source": [
    "loader = DirectoryLoader(\n",
    "    path= DATA_DIR,\n",
    "    show_progress= True,\n",
    "    use_multithreading= True\n",
    ")\n",
    "docs = loader.load()"
   ]
  },
  {
   "cell_type": "code",
   "execution_count": 4,
   "id": "bce12d28",
   "metadata": {},
   "outputs": [
    {
     "data": {
      "text/plain": [
       "8"
      ]
     },
     "execution_count": 4,
     "metadata": {},
     "output_type": "execute_result"
    }
   ],
   "source": [
    "len(docs)"
   ]
  },
  {
   "cell_type": "markdown",
   "id": "3432399c",
   "metadata": {},
   "source": [
    "## Chunking"
   ]
  },
  {
   "cell_type": "code",
   "execution_count": 5,
   "id": "64ff0b88",
   "metadata": {},
   "outputs": [],
   "source": [
    "splitter = RecursiveCharacterTextSplitter(\n",
    "    chunk_size= 500,\n",
    "    chunk_overlap= 50\n",
    ")\n",
    "\n",
    "chunks = splitter.split_documents(docs)"
   ]
  },
  {
   "cell_type": "code",
   "execution_count": 6,
   "id": "dfb3095e",
   "metadata": {},
   "outputs": [
    {
     "data": {
      "text/plain": [
       "36"
      ]
     },
     "execution_count": 6,
     "metadata": {},
     "output_type": "execute_result"
    }
   ],
   "source": [
    "len(chunks)"
   ]
  },
  {
   "cell_type": "markdown",
   "id": "0e507ced",
   "metadata": {},
   "source": [
    "## Vector DB"
   ]
  },
  {
   "cell_type": "code",
   "execution_count": 7,
   "id": "22389fe9",
   "metadata": {},
   "outputs": [],
   "source": [
    "embeddings = OpenAIEmbeddings(model= EMBEDDING_MODEL)\n",
    "sample = embeddings.embed_query('hello world')\n",
    "length = len(sample)"
   ]
  },
  {
   "cell_type": "code",
   "execution_count": 8,
   "id": "f4b63061",
   "metadata": {},
   "outputs": [
    {
     "data": {
      "text/plain": [
       "3072"
      ]
     },
     "execution_count": 8,
     "metadata": {},
     "output_type": "execute_result"
    }
   ],
   "source": [
    "length"
   ]
  },
  {
   "cell_type": "code",
   "execution_count": 9,
   "id": "4257bd9d",
   "metadata": {},
   "outputs": [],
   "source": [
    "index = faiss.IndexFlatL2(length)"
   ]
  },
  {
   "cell_type": "code",
   "execution_count": 10,
   "id": "f381115d",
   "metadata": {},
   "outputs": [],
   "source": [
    "vector_store = FAISS(\n",
    "    embedding_function= embeddings,\n",
    "    index= index,\n",
    "    docstore= InMemoryDocstore(),\n",
    "    index_to_docstore_id= {}\n",
    ")"
   ]
  },
  {
   "cell_type": "code",
   "execution_count": 11,
   "id": "0b64595f",
   "metadata": {},
   "outputs": [
    {
     "data": {
      "text/plain": [
       "['c4c55a01-e74c-419f-ab8d-4430228472e6',\n",
       " '14345b4e-f7ca-4fe4-a976-b08bc93fcc8d',\n",
       " '65023599-97dd-4ec2-bb60-12532d9de0b8',\n",
       " 'e13ad03b-cd02-4f0e-bafa-f624f8856501',\n",
       " '2b749e2e-c8b6-4e3f-8b9a-88dbd69ff4fe',\n",
       " 'cd7ab3ed-fcd8-466b-8d50-713d81aeb78f',\n",
       " '209e7c9c-5e8e-42ff-91f0-150c1d54bcd8',\n",
       " '5aca2738-b35a-4a14-a9e9-55a048604d8b',\n",
       " 'e54cfcbf-eda6-4bde-ac4d-b52ab91fa582',\n",
       " 'a1ebc0bd-aef7-4f4e-8b08-e6fa2e27479e',\n",
       " '7705c5ff-6659-443f-9540-08b4f9bfeec8',\n",
       " 'bf76d1a6-1fc7-4b84-8e86-58cb8fa1a0da',\n",
       " 'fa7c85f8-82ee-4992-9c1f-5e35fab0735a',\n",
       " '990e46e0-a922-4b56-a177-24652102497d',\n",
       " 'd9c125bc-0472-42a6-a8e4-08efb61857e0',\n",
       " '6e6f574d-5ad0-4735-a9f1-7a1c5be8089d',\n",
       " 'dd9d7321-92c2-4f23-9f5e-34e00463ac2f',\n",
       " 'cd793284-9695-4e08-b6c9-7fa5f7fed275',\n",
       " 'cdfc9bd5-45f5-4586-89e3-ad577204362c',\n",
       " '186ae497-fb21-4ddd-a363-0dfddbce23c7',\n",
       " '7b69d2f1-9af6-44d4-941e-5e33d6e06fe1',\n",
       " '5d4d17f8-ac7d-4a27-92b1-ea9cc4091f53',\n",
       " '7b342c3f-c54a-4a1e-a117-e84ad88ada65',\n",
       " 'bedb0e50-2236-4e79-b4f0-b7d4a0b4e3d6',\n",
       " 'b79523c1-9176-4f64-afd7-894d0c65bf34',\n",
       " '02487154-6465-4fb6-b4d2-1e732d161e0d',\n",
       " 'ef7d65c2-e29b-4098-bfa7-d87c85cef78a',\n",
       " '484ffa71-6b7e-4089-ae80-ea9aa12aa93c',\n",
       " '26b8b876-b627-42d7-9c94-9e092d4d259f',\n",
       " 'bb78f2c3-cd08-4e75-bac5-54190cee08c5',\n",
       " '067f5270-6bcd-435a-900b-0cfc43782616',\n",
       " '4177da73-143b-407e-b102-9df77b7e5095',\n",
       " '5aab6cb7-8295-4af3-9143-e6d5907fa7fb',\n",
       " '9c90c250-0fef-4b27-a963-7e8cb240aae6',\n",
       " '4798c2c4-9284-4fdf-afc3-21d399107635',\n",
       " 'a43d13d8-ede0-48c8-98cc-8c3c7b227e37']"
      ]
     },
     "execution_count": 11,
     "metadata": {},
     "output_type": "execute_result"
    }
   ],
   "source": [
    "vector_store.add_documents(chunks)"
   ]
  },
  {
   "cell_type": "code",
   "execution_count": 12,
   "id": "5bf710f0",
   "metadata": {},
   "outputs": [],
   "source": [
    "vector_store.save_local(r'E:\\Python\\LLM\\NeuroHarshit\\Databases\\faiss_index')"
   ]
  },
  {
   "cell_type": "code",
   "execution_count": null,
   "id": "1a068732",
   "metadata": {},
   "outputs": [],
   "source": []
  }
 ],
 "metadata": {
  "kernelspec": {
   "display_name": "llm_env",
   "language": "python",
   "name": "python3"
  },
  "language_info": {
   "codemirror_mode": {
    "name": "ipython",
    "version": 3
   },
   "file_extension": ".py",
   "mimetype": "text/x-python",
   "name": "python",
   "nbconvert_exporter": "python",
   "pygments_lexer": "ipython3",
   "version": "3.12.7"
  }
 },
 "nbformat": 4,
 "nbformat_minor": 5
}
