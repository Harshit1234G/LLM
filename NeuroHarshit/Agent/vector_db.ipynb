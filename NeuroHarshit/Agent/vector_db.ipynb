{
 "cells": [
  {
   "cell_type": "code",
   "execution_count": 1,
   "id": "ee144c4a",
   "metadata": {},
   "outputs": [],
   "source": [
    "import faiss\n",
    "from langchain_community.document_loaders import DirectoryLoader\n",
    "from langchain_openai import OpenAIEmbeddings\n",
    "from langchain_text_splitters import RecursiveCharacterTextSplitter\n",
    "from langchain_community.vectorstores import FAISS\n",
    "from langchain_community.docstore.in_memory import InMemoryDocstore"
   ]
  },
  {
   "cell_type": "code",
   "execution_count": 2,
   "id": "5e9c180d",
   "metadata": {},
   "outputs": [],
   "source": [
    "DATA_DIR = r\"E:\\Python\\LLM\\NeuroHarshit\\Databases\\text_data\"\n",
    "EMBEDDING_MODEL = 'text-embedding-3-large'"
   ]
  },
  {
   "cell_type": "markdown",
   "id": "87522a2b",
   "metadata": {},
   "source": [
    "## Loading directory"
   ]
  },
  {
   "cell_type": "code",
   "execution_count": 3,
   "id": "8a950c3a",
   "metadata": {},
   "outputs": [
    {
     "name": "stderr",
     "output_type": "stream",
     "text": [
      "  0%|          | 0/9 [00:00<?, ?it/s]libmagic is unavailable but assists in filetype detection. Please consider installing libmagic for better results.\n",
      "libmagic is unavailable but assists in filetype detection. Please consider installing libmagic for better results.\n",
      "libmagic is unavailable but assists in filetype detection. Please consider installing libmagic for better results.\n",
      "libmagic is unavailable but assists in filetype detection. Please consider installing libmagic for better results.\n",
      "Need to load profiles.\n",
      "short text: \"Certifications:\". Defaulting to English.\n",
      "Need to load profiles.\n",
      "short text: \"Experience:\". Defaulting to English.\n",
      "short text: \"Description:\". Defaulting to English.\n",
      " 11%|█         | 1/9 [00:10<01:26, 10.86s/it]short text: \"Score: 90%\". Defaulting to English.\n",
      "short text: \"Score: 91%\". Defaulting to English.\n",
      " 22%|██▏       | 2/9 [00:10<00:31,  4.55s/it]libmagic is unavailable but assists in filetype detection. Please consider installing libmagic for better results.\n",
      "libmagic is unavailable but assists in filetype detection. Please consider installing libmagic for better results.\n",
      "libmagic is unavailable but assists in filetype detection. Please consider installing libmagic for better results.\n",
      " 44%|████▍     | 4/9 [00:11<00:08,  1.77s/it]short text: \"Summary:\". Defaulting to English.\n",
      "short text: \"Spending time in nature\". Defaulting to English.\n",
      "short text: \"Playing video games\". Defaulting to English.\n",
      "short text: \"Listening to music\". Defaulting to English.\n",
      "short text: \"Full Name: Harshit Kumawat\". Defaulting to English.\n",
      "short text: \"Date of Birth: 2005-12-30\". Defaulting to English.\n",
      "short text: \"Location: Nathdwara, Rajasthan, India\". Defaulting to English.\n",
      "short text: \"Email: harshitkumawat849@gmail.com\". Defaulting to English.\n",
      "short text: \"LinkedIN: https://www.linkedin.com/in/harshit-kumawat-8778ba259/\". Defaulting to English.\n",
      "short text: \"Github: https://github.com/Harshit1234G\". Defaulting to English.\n",
      "libmagic is unavailable but assists in filetype detection. Please consider installing libmagic for better results.\n",
      "libmagic is unavailable but assists in filetype detection. Please consider installing libmagic for better results.\n",
      "short text: \"Skills:\". Defaulting to English.\n",
      "short text: \"Programming Languages: Python\". Defaulting to English.\n",
      "short text: \"Databases: SQLite, FAISS, Chroma\". Defaulting to English.\n",
      "short text: \"GUI Development: Tkinter, CustomTkinter\". Defaulting to English.\n",
      "short text: \"Soft Skills: Problem-Solving, Self-Learning\". Defaulting to English.\n",
      "100%|██████████| 9/9 [00:12<00:00,  1.36s/it]\n"
     ]
    }
   ],
   "source": [
    "loader = DirectoryLoader(\n",
    "    path= DATA_DIR,\n",
    "    show_progress= True,\n",
    "    use_multithreading= True\n",
    ")\n",
    "docs = loader.load()"
   ]
  },
  {
   "cell_type": "code",
   "execution_count": 4,
   "id": "bce12d28",
   "metadata": {},
   "outputs": [
    {
     "data": {
      "text/plain": [
       "9"
      ]
     },
     "execution_count": 4,
     "metadata": {},
     "output_type": "execute_result"
    }
   ],
   "source": [
    "len(docs)"
   ]
  },
  {
   "cell_type": "markdown",
   "id": "3432399c",
   "metadata": {},
   "source": [
    "## Chunking"
   ]
  },
  {
   "cell_type": "code",
   "execution_count": 5,
   "id": "64ff0b88",
   "metadata": {},
   "outputs": [],
   "source": [
    "splitter = RecursiveCharacterTextSplitter(\n",
    "    chunk_size= 500,\n",
    "    chunk_overlap= 50\n",
    ")\n",
    "\n",
    "chunks = splitter.split_documents(docs)"
   ]
  },
  {
   "cell_type": "code",
   "execution_count": 6,
   "id": "dfb3095e",
   "metadata": {},
   "outputs": [
    {
     "data": {
      "text/plain": [
       "55"
      ]
     },
     "execution_count": 6,
     "metadata": {},
     "output_type": "execute_result"
    }
   ],
   "source": [
    "len(chunks)"
   ]
  },
  {
   "cell_type": "markdown",
   "id": "0e507ced",
   "metadata": {},
   "source": [
    "## Vector DB"
   ]
  },
  {
   "cell_type": "code",
   "execution_count": 7,
   "id": "22389fe9",
   "metadata": {},
   "outputs": [],
   "source": [
    "embeddings = OpenAIEmbeddings(model= EMBEDDING_MODEL)\n",
    "sample = embeddings.embed_query('hello world')\n",
    "length = len(sample)"
   ]
  },
  {
   "cell_type": "code",
   "execution_count": 8,
   "id": "f4b63061",
   "metadata": {},
   "outputs": [
    {
     "data": {
      "text/plain": [
       "3072"
      ]
     },
     "execution_count": 8,
     "metadata": {},
     "output_type": "execute_result"
    }
   ],
   "source": [
    "length"
   ]
  },
  {
   "cell_type": "code",
   "execution_count": 9,
   "id": "4257bd9d",
   "metadata": {},
   "outputs": [],
   "source": [
    "index = faiss.IndexFlatL2(length)"
   ]
  },
  {
   "cell_type": "code",
   "execution_count": 10,
   "id": "f381115d",
   "metadata": {},
   "outputs": [],
   "source": [
    "vector_store = FAISS(\n",
    "    embedding_function= embeddings,\n",
    "    index= index,\n",
    "    docstore= InMemoryDocstore(),\n",
    "    index_to_docstore_id= {}\n",
    ")"
   ]
  },
  {
   "cell_type": "code",
   "execution_count": 11,
   "id": "0b64595f",
   "metadata": {},
   "outputs": [
    {
     "data": {
      "text/plain": [
       "['f34dbf89-5149-4065-8bdd-2a04870e4cd1',\n",
       " '4eb0f47d-372e-4585-ab3e-ff0369d0581f',\n",
       " 'e7b0a63a-e280-499b-ae8f-d8e99b14ba52',\n",
       " 'b2c18482-ae14-4f4d-8581-6402246d3ab8',\n",
       " 'c868608f-dd67-4966-a46a-96bb76834352',\n",
       " 'ae77f0c7-40ea-4f5c-bce7-15f7da65c5b4',\n",
       " '880cb665-798b-4ac6-bfcc-f6224741e896',\n",
       " 'b8b0614f-d429-4c9d-a999-82d7de157bf3',\n",
       " '696c7353-b4de-458c-8c68-7899c28829c5',\n",
       " 'ffd58765-9f63-4790-bf78-77677bc92e63',\n",
       " '403e8363-50a0-42c4-a87d-7e1a5f7f9fc7',\n",
       " '9daa5f95-10ad-4edd-b9ce-90a6ec8595c7',\n",
       " '84590cc5-0a72-4fc5-b991-9934ef4c04ba',\n",
       " '852c10b5-4c0d-4fe6-8917-b3ee1168f380',\n",
       " '453980a3-bddd-4e86-8159-13e75e5ecabc',\n",
       " 'c70b567f-0dee-400f-84e3-098e7dba434d',\n",
       " 'a65c8cfc-4042-457f-9613-915c136832cd',\n",
       " '7b8e63d6-4fa9-45af-a40f-4bdc211278ae',\n",
       " 'a491f2f2-a1bf-4ac7-9695-1a1832fc76af',\n",
       " 'a358f457-3fb1-4ff0-b5ee-9642e943b771',\n",
       " '320759f2-58a3-4d42-a889-9917373717fe',\n",
       " '53b8a4a7-bb4b-43a7-b0a5-5aea862612b8',\n",
       " '97000e51-69a5-4d12-9b4c-1ab4094b706d',\n",
       " 'adb7dd5e-0c1c-4328-be4b-cf5486564284',\n",
       " 'f9292d54-16d3-472e-b39b-4607059ca553',\n",
       " '2dbc38bc-d7be-4c17-b84a-a6e9402a2f95',\n",
       " '19100348-4143-44e2-b360-7b445f719cbb',\n",
       " '52164aa3-8719-404a-8259-0310f66f846d',\n",
       " '029faf95-c17b-4636-a8ae-720b4d4f4d81',\n",
       " 'af56a0fb-0e17-4e31-81b3-e885a856e411',\n",
       " 'c3df4c9f-bbd6-44cd-aca7-d93deb3a67bd',\n",
       " '4e04ccb9-0de7-4be2-8a87-3e7196724d84',\n",
       " '8f85008c-2656-4b35-91db-58cd080b871d',\n",
       " 'a3965b3d-b9ef-4acb-a9cc-c02b855c17be',\n",
       " 'bf125426-2276-4df5-ab66-14c655aeb03a',\n",
       " '75ded2dd-693c-4133-b9ed-79522fbd92fa',\n",
       " 'c9695243-18e0-4a71-be42-a40d522cde25',\n",
       " '840a45e6-20cf-4e04-8ea7-6cf043c08aee',\n",
       " 'd19e308e-f0ad-43dd-8112-5fd3e2548f5b',\n",
       " '6943144a-3486-459a-b1fe-00afbe64d59a',\n",
       " 'cd52c63c-60e7-4a70-a897-e4abc8364e2e',\n",
       " '571a7702-a77a-4103-9cd4-7f4b6c32cd45',\n",
       " 'b0349021-1d74-4adb-be6a-0237f469837e',\n",
       " '4575988e-befa-4778-baf6-8086834c9843',\n",
       " '001cc0b5-52eb-438e-8641-a96f64521b97',\n",
       " 'ba2f7d28-67af-4568-b318-960780231817',\n",
       " 'd93564ed-247d-4f65-83dd-5d7aa872cd9b',\n",
       " 'a2388cea-2109-4ad9-980b-763b8d4edb6b',\n",
       " '6bcc7390-28f3-42c0-a6dc-83fa17fb22f7',\n",
       " '791e76c5-d458-44bd-afbf-4b5d2dc4c686',\n",
       " 'e2c6e52f-6fe0-41b9-aedb-f400aad77b4e',\n",
       " 'd87cc4b5-62b4-4486-a950-f4bebcd71b79',\n",
       " '2af61a44-57a9-4da3-92ff-9c3cf3dce3b0',\n",
       " '62d0b4d5-70c2-425c-88f1-947fd6f389cc',\n",
       " '1582c6b3-89ed-4951-9910-0023b945fc32']"
      ]
     },
     "execution_count": 11,
     "metadata": {},
     "output_type": "execute_result"
    }
   ],
   "source": [
    "vector_store.add_documents(chunks)"
   ]
  },
  {
   "cell_type": "code",
   "execution_count": 12,
   "id": "5bf710f0",
   "metadata": {},
   "outputs": [],
   "source": [
    "vector_store.save_local(r'E:\\Python\\LLM\\NeuroHarshit\\Databases\\faiss_index')"
   ]
  },
  {
   "cell_type": "code",
   "execution_count": null,
   "id": "1a068732",
   "metadata": {},
   "outputs": [],
   "source": []
  }
 ],
 "metadata": {
  "kernelspec": {
   "display_name": "llm_env",
   "language": "python",
   "name": "python3"
  },
  "language_info": {
   "codemirror_mode": {
    "name": "ipython",
    "version": 3
   },
   "file_extension": ".py",
   "mimetype": "text/x-python",
   "name": "python",
   "nbconvert_exporter": "python",
   "pygments_lexer": "ipython3",
   "version": "3.12.7"
  }
 },
 "nbformat": 4,
 "nbformat_minor": 5
}
