{
 "cells": [
  {
   "cell_type": "code",
   "execution_count": 1,
   "id": "ee144c4a",
   "metadata": {},
   "outputs": [],
   "source": [
    "import faiss\n",
    "from langchain_community.document_loaders import DirectoryLoader\n",
    "from langchain_openai import OpenAIEmbeddings\n",
    "from langchain_text_splitters import RecursiveCharacterTextSplitter\n",
    "from langchain_community.vectorstores import FAISS\n",
    "from langchain_community.docstore.in_memory import InMemoryDocstore"
   ]
  },
  {
   "cell_type": "code",
   "execution_count": 2,
   "id": "5e9c180d",
   "metadata": {},
   "outputs": [],
   "source": [
    "DATA_DIR = r\"E:\\Python\\LLM\\NeuroHarshit\\Databases\\text_data\"\n",
    "EMBEDDING_MODEL = 'text-embedding-3-large'"
   ]
  },
  {
   "cell_type": "markdown",
   "id": "87522a2b",
   "metadata": {},
   "source": [
    "## Loading directory"
   ]
  },
  {
   "cell_type": "code",
   "execution_count": 3,
   "id": "8a950c3a",
   "metadata": {},
   "outputs": [
    {
     "name": "stderr",
     "output_type": "stream",
     "text": [
      "  0%|          | 0/8 [00:00<?, ?it/s]"
     ]
    },
    {
     "name": "stderr",
     "output_type": "stream",
     "text": [
      "libmagic is unavailable but assists in filetype detection. Please consider installing libmagic for better results.\n",
      "libmagic is unavailable but assists in filetype detection. Please consider installing libmagic for better results.\n",
      "libmagic is unavailable but assists in filetype detection. Please consider installing libmagic for better results.\n",
      "libmagic is unavailable but assists in filetype detection. Please consider installing libmagic for better results.\n",
      "Need to load profiles.\n",
      "Need to load profiles.\n",
      "short text: \"Certifications:\". Defaulting to English.\n",
      "short text: \"Experience:\". Defaulting to English.\n",
      "Need to load profiles.\n",
      "Need to load profiles.\n",
      "Need to load profiles.\n",
      "Need to load profiles.\n",
      "Need to load profiles.\n",
      "short text: \"Score: 90%\". Defaulting to English.\n",
      "Need to load profiles.\n",
      "short text: \"Score: 91%\". Defaulting to English.\n",
      " 12%|█▎        | 1/8 [00:11<01:19, 11.36s/it]short text: \"Description:\". Defaulting to English.\n",
      " 25%|██▌       | 2/8 [00:11<00:42,  7.15s/it]libmagic is unavailable but assists in filetype detection. Please consider installing libmagic for better results.\n",
      "libmagic is unavailable but assists in filetype detection. Please consider installing libmagic for better results.\n",
      "libmagic is unavailable but assists in filetype detection. Please consider installing libmagic for better results.\n",
      " 50%|█████     | 4/8 [00:11<00:14,  3.53s/it]short text: \"Spending time in nature\". Defaulting to English.\n",
      "short text: \"Playing video games\". Defaulting to English.\n",
      "short text: \"Listening to music\". Defaulting to English.\n",
      "libmagic is unavailable but assists in filetype detection. Please consider installing libmagic for better results.\n",
      "short text: \"Programming Languages: Python\". Defaulting to English.\n",
      "short text: \"Databases: SQLite, FAISS, Chroma\". Defaulting to English.\n",
      "short text: \"GUI Development: Tkinter, CustomTkinter\". Defaulting to English.\n",
      "short text: \"Soft Skills: Problem-Solving, Self-Learning\". Defaulting to English.\n",
      "100%|██████████| 8/8 [00:12<00:00,  1.55s/it]\n"
     ]
    }
   ],
   "source": [
    "loader = DirectoryLoader(\n",
    "    path= DATA_DIR,\n",
    "    show_progress= True,\n",
    "    use_multithreading= True\n",
    ")\n",
    "docs = loader.load()"
   ]
  },
  {
   "cell_type": "code",
   "execution_count": 4,
   "id": "bce12d28",
   "metadata": {},
   "outputs": [
    {
     "data": {
      "text/plain": [
       "8"
      ]
     },
     "execution_count": 4,
     "metadata": {},
     "output_type": "execute_result"
    }
   ],
   "source": [
    "len(docs)"
   ]
  },
  {
   "cell_type": "markdown",
   "id": "3432399c",
   "metadata": {},
   "source": [
    "## Chunking"
   ]
  },
  {
   "cell_type": "code",
   "execution_count": 5,
   "id": "64ff0b88",
   "metadata": {},
   "outputs": [],
   "source": [
    "splitter = RecursiveCharacterTextSplitter(\n",
    "    chunk_size= 500,\n",
    "    chunk_overlap= 50\n",
    ")\n",
    "\n",
    "chunks = splitter.split_documents(docs)"
   ]
  },
  {
   "cell_type": "code",
   "execution_count": 6,
   "id": "dfb3095e",
   "metadata": {},
   "outputs": [
    {
     "data": {
      "text/plain": [
       "36"
      ]
     },
     "execution_count": 6,
     "metadata": {},
     "output_type": "execute_result"
    }
   ],
   "source": [
    "len(chunks)"
   ]
  },
  {
   "cell_type": "markdown",
   "id": "0e507ced",
   "metadata": {},
   "source": [
    "## Vector DB"
   ]
  },
  {
   "cell_type": "code",
   "execution_count": 7,
   "id": "22389fe9",
   "metadata": {},
   "outputs": [],
   "source": [
    "embeddings = OpenAIEmbeddings(model= EMBEDDING_MODEL)\n",
    "sample = embeddings.embed_query('hello world')\n",
    "length = len(sample)"
   ]
  },
  {
   "cell_type": "code",
   "execution_count": 8,
   "id": "f4b63061",
   "metadata": {},
   "outputs": [
    {
     "data": {
      "text/plain": [
       "3072"
      ]
     },
     "execution_count": 8,
     "metadata": {},
     "output_type": "execute_result"
    }
   ],
   "source": [
    "length"
   ]
  },
  {
   "cell_type": "code",
   "execution_count": 9,
   "id": "4257bd9d",
   "metadata": {},
   "outputs": [],
   "source": [
    "index = faiss.IndexFlatL2(length)"
   ]
  },
  {
   "cell_type": "code",
   "execution_count": 10,
   "id": "f381115d",
   "metadata": {},
   "outputs": [],
   "source": [
    "vector_store = FAISS(\n",
    "    embedding_function= embeddings,\n",
    "    index= index,\n",
    "    docstore= InMemoryDocstore(),\n",
    "    index_to_docstore_id= {}\n",
    ")"
   ]
  },
  {
   "cell_type": "code",
   "execution_count": 11,
   "id": "0b64595f",
   "metadata": {},
   "outputs": [
    {
     "data": {
      "text/plain": [
       "['aa090d5b-5121-4ce0-8026-5b99bfd2e537',\n",
       " '0d15c97f-69b7-4135-a810-e6d34e04c92e',\n",
       " 'f39e0d15-3767-400a-8cf3-b0dec53f7d05',\n",
       " 'cdc4e201-c0c4-459d-b443-0b253f289ce7',\n",
       " '314399d3-99ad-4a61-96be-55b7ded43fb1',\n",
       " '4bda0fef-0ac9-4e19-995e-6e5d5e87ea40',\n",
       " '273fff24-6a67-48a3-85ab-3fb12aebab06',\n",
       " 'b6ad9710-31a1-4b59-9736-752151c8a258',\n",
       " '87dd6a6c-1681-4635-952a-5279c7b8ad5c',\n",
       " '0a67fe3b-8106-4c27-a25e-ee0a7c88d89b',\n",
       " '38c5341b-de3e-40bb-ada0-1147a6bac8c8',\n",
       " 'efac31d0-b4c5-405c-8dd8-f2d6a670f0b1',\n",
       " 'e6c8e675-c2b9-4649-91aa-27c525534393',\n",
       " '073a3b3b-ce04-4f0f-bc34-8314a8ff93eb',\n",
       " 'e21bd3ee-472c-4ab8-91b8-6709583f6804',\n",
       " '9d739178-881e-4f33-ba98-92fb2665f0f8',\n",
       " '8d757ccb-08df-4b96-a599-4837c017b8b6',\n",
       " '14aa136f-0fc7-4ddb-9d33-d940aef23ba9',\n",
       " '2e348097-ff7f-4e84-95d4-17c50db80102',\n",
       " 'a9429024-4c26-454b-a761-43099424e30d',\n",
       " 'd18cb9f9-860a-41e3-83ae-00825bf1c930',\n",
       " 'c3188e5e-7435-4e98-b7a9-762b805224e0',\n",
       " 'ec75d4ce-4c6e-419f-a8a3-24aa38129774',\n",
       " '5e644c08-a994-4bab-9b55-107673671048',\n",
       " 'c9c0e789-4be4-4881-82b5-96b715e74967',\n",
       " '255d4024-80f7-4824-9d41-285a6ca149a0',\n",
       " '008222e6-e784-4a59-86ed-0496ec3680ce',\n",
       " '1c69c39d-712b-4214-8b31-00e66c824b48',\n",
       " '42c5d9d0-e083-423a-bc8b-d212f916583e',\n",
       " '605aa521-9525-42d2-92f3-b312dbf9ee25',\n",
       " '74daff2a-7ec5-423a-aa7d-fa825d0c6f24',\n",
       " '4c062365-386d-4489-a358-397c825b6764',\n",
       " '3eebe408-7e5a-4db9-8ce9-0d41d8c66e9b',\n",
       " '36634641-b295-40cb-ac78-b74077c3eae4',\n",
       " '476471fe-92b4-45df-beb4-0c24586ea0f5',\n",
       " 'ca5ec7fe-22a9-4409-869f-727816585d24']"
      ]
     },
     "execution_count": 11,
     "metadata": {},
     "output_type": "execute_result"
    }
   ],
   "source": [
    "vector_store.add_documents(chunks)"
   ]
  },
  {
   "cell_type": "code",
   "execution_count": 12,
   "id": "5bf710f0",
   "metadata": {},
   "outputs": [],
   "source": [
    "vector_store.save_local(r'E:\\Python\\LLM\\NeuroHarshit\\Databases\\faiss_index')"
   ]
  },
  {
   "cell_type": "code",
   "execution_count": null,
   "id": "1a068732",
   "metadata": {},
   "outputs": [],
   "source": []
  }
 ],
 "metadata": {
  "kernelspec": {
   "display_name": "llm_env",
   "language": "python",
   "name": "python3"
  },
  "language_info": {
   "codemirror_mode": {
    "name": "ipython",
    "version": 3
   },
   "file_extension": ".py",
   "mimetype": "text/x-python",
   "name": "python",
   "nbconvert_exporter": "python",
   "pygments_lexer": "ipython3",
   "version": "3.12.7"
  }
 },
 "nbformat": 4,
 "nbformat_minor": 5
}
