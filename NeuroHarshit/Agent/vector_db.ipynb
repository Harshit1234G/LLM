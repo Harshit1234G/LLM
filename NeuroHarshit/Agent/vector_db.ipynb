{
 "cells": [
  {
   "cell_type": "code",
   "execution_count": 1,
   "id": "ee144c4a",
   "metadata": {},
   "outputs": [],
   "source": [
    "import faiss\n",
    "from langchain_community.document_loaders import DirectoryLoader\n",
    "from langchain_openai import OpenAIEmbeddings\n",
    "from langchain_text_splitters import RecursiveCharacterTextSplitter\n",
    "from langchain_community.vectorstores import FAISS\n",
    "from langchain_community.docstore.in_memory import InMemoryDocstore"
   ]
  },
  {
   "cell_type": "code",
   "execution_count": 2,
   "id": "5e9c180d",
   "metadata": {},
   "outputs": [],
   "source": [
    "DATA_DIR = r\"E:\\Python\\LLM\\NeuroHarshit\\Databases\\text_data\"\n",
    "EMBEDDING_MODEL = 'text-embedding-3-large'"
   ]
  },
  {
   "cell_type": "markdown",
   "id": "87522a2b",
   "metadata": {},
   "source": [
    "## Loading directory"
   ]
  },
  {
   "cell_type": "code",
   "execution_count": 3,
   "id": "8a950c3a",
   "metadata": {},
   "outputs": [
    {
     "name": "stderr",
     "output_type": "stream",
     "text": [
      "  0%|          | 0/8 [00:00<?, ?it/s]libmagic is unavailable but assists in filetype detection. Please consider installing libmagic for better results.\n",
      "libmagic is unavailable but assists in filetype detection. Please consider installing libmagic for better results.\n",
      "libmagic is unavailable but assists in filetype detection. Please consider installing libmagic for better results.\n",
      "libmagic is unavailable but assists in filetype detection. Please consider installing libmagic for better results.\n",
      "Need to load profiles.\n",
      "short text: \"Education:\". Defaulting to English.\n",
      "Need to load profiles.\n",
      "short text: \"Experience:\". Defaulting to English.\n",
      "Need to load profiles.\n",
      "Need to load profiles.\n",
      "Need to load profiles.\n",
      "short text: \"Description:\". Defaulting to English.\n",
      "Need to load profiles.\n",
      "Need to load profiles.\n",
      "Need to load profiles.\n",
      " 12%|█▎        | 1/8 [00:11<01:20, 11.49s/it]Need to load profiles.\n",
      "short text: \"Duration: 2022 - 2025\". Defaulting to English.\n",
      "short text: \"CGPA: 8.64\". Defaulting to English.\n",
      "short text: \"Year of completion: 2022\". Defaulting to English.\n",
      "short text: \"Percentage: 87.00%\". Defaulting to English.\n",
      "short text: \"3. Secondary (Class X):\". Defaulting to English.\n",
      "libmagic is unavailable but assists in filetype detection. Please consider installing libmagic for better results.\n",
      "short text: \"Year of completion: 2020\". Defaulting to English.\n",
      " 25%|██▌       | 2/8 [00:11<00:28,  4.83s/it]short text: \"Percentage: 90.83%\". Defaulting to English.\n",
      "libmagic is unavailable but assists in filetype detection. Please consider installing libmagic for better results.\n",
      "libmagic is unavailable but assists in filetype detection. Please consider installing libmagic for better results.\n",
      "libmagic is unavailable but assists in filetype detection. Please consider installing libmagic for better results.\n",
      "short text: \"Spending time in nature\". Defaulting to English.\n",
      "short text: \"Skills:\". Defaulting to English.\n",
      "short text: \"Playing video games\". Defaulting to English.\n",
      "short text: \"Programming Languages: Python\". Defaulting to English.\n",
      "short text: \"Listening to music\". Defaulting to English.\n",
      "short text: \"Databases: SQLite, FAISS, Chroma\". Defaulting to English.\n",
      "short text: \"GUI Development: Tkinter, CustomTkinter\". Defaulting to English.\n",
      "short text: \"Soft Skills: Problem-Solving, Self-Learning\". Defaulting to English.\n",
      "100%|██████████| 8/8 [00:12<00:00,  1.56s/it]\n"
     ]
    }
   ],
   "source": [
    "loader = DirectoryLoader(\n",
    "    path= DATA_DIR,\n",
    "    show_progress= True,\n",
    "    use_multithreading= True\n",
    ")\n",
    "docs = loader.load()"
   ]
  },
  {
   "cell_type": "code",
   "execution_count": 4,
   "id": "bce12d28",
   "metadata": {},
   "outputs": [
    {
     "data": {
      "text/plain": [
       "8"
      ]
     },
     "execution_count": 4,
     "metadata": {},
     "output_type": "execute_result"
    }
   ],
   "source": [
    "len(docs)"
   ]
  },
  {
   "cell_type": "markdown",
   "id": "3432399c",
   "metadata": {},
   "source": [
    "## Chunking"
   ]
  },
  {
   "cell_type": "code",
   "execution_count": 5,
   "id": "64ff0b88",
   "metadata": {},
   "outputs": [],
   "source": [
    "splitter = RecursiveCharacterTextSplitter(\n",
    "    chunk_size= 500,\n",
    "    chunk_overlap= 50\n",
    ")\n",
    "\n",
    "chunks = splitter.split_documents(docs)"
   ]
  },
  {
   "cell_type": "code",
   "execution_count": 6,
   "id": "dfb3095e",
   "metadata": {},
   "outputs": [
    {
     "data": {
      "text/plain": [
       "36"
      ]
     },
     "execution_count": 6,
     "metadata": {},
     "output_type": "execute_result"
    }
   ],
   "source": [
    "len(chunks)"
   ]
  },
  {
   "cell_type": "markdown",
   "id": "0e507ced",
   "metadata": {},
   "source": [
    "## Vector DB"
   ]
  },
  {
   "cell_type": "code",
   "execution_count": 7,
   "id": "22389fe9",
   "metadata": {},
   "outputs": [],
   "source": [
    "embeddings = OpenAIEmbeddings(model= EMBEDDING_MODEL)\n",
    "sample = embeddings.embed_query('hello world')\n",
    "length = len(sample)"
   ]
  },
  {
   "cell_type": "code",
   "execution_count": 8,
   "id": "f4b63061",
   "metadata": {},
   "outputs": [
    {
     "data": {
      "text/plain": [
       "3072"
      ]
     },
     "execution_count": 8,
     "metadata": {},
     "output_type": "execute_result"
    }
   ],
   "source": [
    "length"
   ]
  },
  {
   "cell_type": "code",
   "execution_count": 9,
   "id": "4257bd9d",
   "metadata": {},
   "outputs": [],
   "source": [
    "index = faiss.IndexFlatL2(length)"
   ]
  },
  {
   "cell_type": "code",
   "execution_count": 10,
   "id": "f381115d",
   "metadata": {},
   "outputs": [],
   "source": [
    "vector_store = FAISS(\n",
    "    embedding_function= embeddings,\n",
    "    index= index,\n",
    "    docstore= InMemoryDocstore(),\n",
    "    index_to_docstore_id= {}\n",
    ")"
   ]
  },
  {
   "cell_type": "code",
   "execution_count": 11,
   "id": "0b64595f",
   "metadata": {},
   "outputs": [
    {
     "data": {
      "text/plain": [
       "['759b64ac-25a3-44cb-b702-3e4895d9c51f',\n",
       " '6cc57d96-d54d-4003-a698-497b239a0dab',\n",
       " 'a3668193-ceed-4256-88f1-01891dbbab9e',\n",
       " 'beccfc4c-4d35-41d5-8eba-74296dc9ba94',\n",
       " 'fbb0acd2-7376-46ee-aaa4-cbf2028c4ac4',\n",
       " 'f67e224f-50fb-4beb-825d-dfce2e17d708',\n",
       " '44515b91-562e-4044-86a4-1763cd7cf851',\n",
       " '88daa58b-96c3-4e9a-bbb7-879154dbbe99',\n",
       " '89327a2f-6367-4998-9025-ad514fbd5686',\n",
       " '3d077a28-8c6c-45f6-8a96-665ec4f45816',\n",
       " '7bff0c30-93d9-403f-afd1-ea3a8d655ccf',\n",
       " 'cc4d1860-8c70-4d68-afaf-c268a1e40da9',\n",
       " '1f6694eb-7a75-416e-b62b-47dbcfe8439b',\n",
       " '7ddfce3c-a9ec-4c1a-8ee2-6f704164ed17',\n",
       " '9287abc3-9a00-4165-b9cd-52b3aa5be6e4',\n",
       " 'cf6869ab-a594-4ff1-815a-43e0222a50b7',\n",
       " '5c21e148-34aa-409e-99ff-4c7a5e9e3da4',\n",
       " '847d3fdc-18c8-497a-abb9-ee7a1d8449b9',\n",
       " 'fb436f5f-b299-4654-9589-17d7d7583456',\n",
       " '4f7a1040-b47f-4edc-818a-7ce20880551e',\n",
       " '2cbd08fe-f633-449e-a4fe-06610b8d45d6',\n",
       " 'f0e020ce-d436-4b15-8c6f-7432ae555291',\n",
       " 'eb75e89b-b4ea-40b9-a4ac-1469d47fddb1',\n",
       " 'd83e0d45-14c0-40c2-9e43-8c6d75edf35c',\n",
       " 'ff28e63c-d41f-4438-a114-29d9e86d9e15',\n",
       " 'dfd05782-2caf-40aa-9dc0-e70e9da46ff2',\n",
       " '462fba32-9da3-4b8b-a28e-9444c51b9703',\n",
       " '7111b938-bcae-4549-b087-7e9800aedb11',\n",
       " 'e679e1a8-b20c-41b8-8ced-f668e876f063',\n",
       " 'a83c56e4-192c-4df3-be28-196c2f907b49',\n",
       " '89fd8786-0b6f-4a3b-8c0d-fea4186d29e5',\n",
       " '32d87853-c2e5-4e5a-b302-24916c60cf08',\n",
       " '969dec23-5fde-4931-93e0-aa2b30511c3c',\n",
       " 'c4c0a786-b87d-4f08-81ca-b44c5f7aa76c',\n",
       " '70849b77-f3fb-4505-8304-c4cf107ddda0',\n",
       " '9d0a6f43-abaa-4fe4-9488-f7ee76c05f03']"
      ]
     },
     "execution_count": 11,
     "metadata": {},
     "output_type": "execute_result"
    }
   ],
   "source": [
    "vector_store.add_documents(chunks)"
   ]
  },
  {
   "cell_type": "code",
   "execution_count": 12,
   "id": "5bf710f0",
   "metadata": {},
   "outputs": [],
   "source": [
    "vector_store.save_local(r'E:\\Python\\LLM\\NeuroHarshit\\Databases\\faiss_index')"
   ]
  },
  {
   "cell_type": "code",
   "execution_count": null,
   "id": "1a068732",
   "metadata": {},
   "outputs": [],
   "source": []
  }
 ],
 "metadata": {
  "kernelspec": {
   "display_name": "llm_env",
   "language": "python",
   "name": "python3"
  },
  "language_info": {
   "codemirror_mode": {
    "name": "ipython",
    "version": 3
   },
   "file_extension": ".py",
   "mimetype": "text/x-python",
   "name": "python",
   "nbconvert_exporter": "python",
   "pygments_lexer": "ipython3",
   "version": "3.12.7"
  }
 },
 "nbformat": 4,
 "nbformat_minor": 5
}
