{
 "cells": [
  {
   "cell_type": "code",
   "execution_count": 1,
   "id": "ee144c4a",
   "metadata": {},
   "outputs": [],
   "source": [
    "import faiss\n",
    "from langchain_community.document_loaders import DirectoryLoader\n",
    "from langchain_openai import OpenAIEmbeddings\n",
    "from langchain_text_splitters import RecursiveCharacterTextSplitter\n",
    "from langchain_community.vectorstores import FAISS\n",
    "from langchain_community.docstore.in_memory import InMemoryDocstore"
   ]
  },
  {
   "cell_type": "code",
   "execution_count": 2,
   "id": "5e9c180d",
   "metadata": {},
   "outputs": [],
   "source": [
    "DATA_DIR = r\"E:\\Python\\LLM\\NeuroHarshit\\Databases\\text_data\"\n",
    "EMBEDDING_MODEL = 'text-embedding-3-large'"
   ]
  },
  {
   "cell_type": "markdown",
   "id": "87522a2b",
   "metadata": {},
   "source": [
    "## Loading directory"
   ]
  },
  {
   "cell_type": "code",
   "execution_count": 3,
   "id": "8a950c3a",
   "metadata": {},
   "outputs": [
    {
     "name": "stderr",
     "output_type": "stream",
     "text": [
      "  0%|          | 0/8 [00:00<?, ?it/s]libmagic is unavailable but assists in filetype detection. Please consider installing libmagic for better results.\n",
      "libmagic is unavailable but assists in filetype detection. Please consider installing libmagic for better results.\n",
      "libmagic is unavailable but assists in filetype detection. Please consider installing libmagic for better results.\n",
      "libmagic is unavailable but assists in filetype detection. Please consider installing libmagic for better results.\n",
      "Need to load profiles.\n",
      "Need to load profiles.\n",
      "short text: \"Certifications:\". Defaulting to English.\n",
      "short text: \"Experience:\". Defaulting to English.\n",
      "Need to load profiles.\n",
      "Need to load profiles.\n",
      "Need to load profiles.\n",
      "Need to load profiles.\n",
      "Need to load profiles.\n",
      "short text: \"Description:\". Defaulting to English.\n",
      "Need to load profiles.\n",
      "Need to load profiles.\n",
      "Need to load profiles.\n",
      "short text: \"Score: 90%\". Defaulting to English.\n",
      "Need to load profiles.\n",
      " 12%|█▎        | 1/8 [00:11<01:20, 11.52s/it]short text: \"Score: 91%\". Defaulting to English.\n",
      "libmagic is unavailable but assists in filetype detection. Please consider installing libmagic for better results.\n",
      "libmagic is unavailable but assists in filetype detection. Please consider installing libmagic for better results.\n",
      " 50%|█████     | 4/8 [00:11<00:08,  2.23s/it]libmagic is unavailable but assists in filetype detection. Please consider installing libmagic for better results.\n",
      "libmagic is unavailable but assists in filetype detection. Please consider installing libmagic for better results.\n",
      "short text: \"Skills:\". Defaulting to English.\n",
      "short text: \"Programming Languages: Python\". Defaulting to English.\n",
      "short text: \"Databases: SQLite, FAISS, Chroma\". Defaulting to English.\n",
      "short text: \"GUI Development: Tkinter, CustomTkinter\". Defaulting to English.\n",
      "short text: \"Soft Skills: Problem-Solving, Self-Learning\". Defaulting to English.\n",
      "100%|██████████| 8/8 [00:12<00:00,  1.61s/it]\n"
     ]
    }
   ],
   "source": [
    "loader = DirectoryLoader(\n",
    "    path= DATA_DIR,\n",
    "    show_progress= True,\n",
    "    use_multithreading= True\n",
    ")\n",
    "docs = loader.load()"
   ]
  },
  {
   "cell_type": "code",
   "execution_count": 4,
   "id": "bce12d28",
   "metadata": {},
   "outputs": [
    {
     "data": {
      "text/plain": [
       "8"
      ]
     },
     "execution_count": 4,
     "metadata": {},
     "output_type": "execute_result"
    }
   ],
   "source": [
    "len(docs)"
   ]
  },
  {
   "cell_type": "markdown",
   "id": "3432399c",
   "metadata": {},
   "source": [
    "## Chunking"
   ]
  },
  {
   "cell_type": "code",
   "execution_count": 5,
   "id": "64ff0b88",
   "metadata": {},
   "outputs": [],
   "source": [
    "splitter = RecursiveCharacterTextSplitter(\n",
    "    chunk_size= 500,\n",
    "    chunk_overlap= 50\n",
    ")\n",
    "\n",
    "chunks = splitter.split_documents(docs)"
   ]
  },
  {
   "cell_type": "code",
   "execution_count": 6,
   "id": "dfb3095e",
   "metadata": {},
   "outputs": [
    {
     "data": {
      "text/plain": [
       "36"
      ]
     },
     "execution_count": 6,
     "metadata": {},
     "output_type": "execute_result"
    }
   ],
   "source": [
    "len(chunks)"
   ]
  },
  {
   "cell_type": "markdown",
   "id": "0e507ced",
   "metadata": {},
   "source": [
    "## Vector DB"
   ]
  },
  {
   "cell_type": "code",
   "execution_count": 7,
   "id": "22389fe9",
   "metadata": {},
   "outputs": [],
   "source": [
    "embeddings = OpenAIEmbeddings(model= EMBEDDING_MODEL)\n",
    "sample = embeddings.embed_query('hello world')\n",
    "length = len(sample)"
   ]
  },
  {
   "cell_type": "code",
   "execution_count": 8,
   "id": "f4b63061",
   "metadata": {},
   "outputs": [
    {
     "data": {
      "text/plain": [
       "3072"
      ]
     },
     "execution_count": 8,
     "metadata": {},
     "output_type": "execute_result"
    }
   ],
   "source": [
    "length"
   ]
  },
  {
   "cell_type": "code",
   "execution_count": 9,
   "id": "4257bd9d",
   "metadata": {},
   "outputs": [],
   "source": [
    "index = faiss.IndexFlatL2(length)"
   ]
  },
  {
   "cell_type": "code",
   "execution_count": 10,
   "id": "f381115d",
   "metadata": {},
   "outputs": [],
   "source": [
    "vector_store = FAISS(\n",
    "    embedding_function= embeddings,\n",
    "    index= index,\n",
    "    docstore= InMemoryDocstore(),\n",
    "    index_to_docstore_id= {}\n",
    ")"
   ]
  },
  {
   "cell_type": "code",
   "execution_count": 11,
   "id": "0b64595f",
   "metadata": {},
   "outputs": [
    {
     "data": {
      "text/plain": [
       "['8707ee3c-f85b-40c1-8d14-7d79b7354619',\n",
       " 'fe513e95-bbc8-4445-8fa2-fea496f453d6',\n",
       " 'fb988305-40a3-4c34-9465-347533d6f799',\n",
       " '93f8a30c-e51e-4f0f-8c39-17b9250550f6',\n",
       " 'dd97eac8-8277-4674-aa00-5d8f73019443',\n",
       " 'e96d2754-70f6-426a-82cb-097522da595f',\n",
       " 'e20f5271-c3bf-41c3-b5cf-43ad2565d0d0',\n",
       " '75ca9e0c-120e-4e7e-8112-8caa3959098d',\n",
       " '576e5865-cbab-48d1-a623-2963b92379ee',\n",
       " 'cab1c306-c64e-4b87-b446-c03b5e69bf18',\n",
       " 'e4f84d0a-4ad9-4c9d-a2b1-49c5bf432123',\n",
       " 'c66a8b87-d19b-4501-8145-ebdb84660f42',\n",
       " 'ab9b8df3-74ac-42a2-8738-fb64157e5837',\n",
       " '4ddde9cb-fdfc-4745-8344-31311699e65c',\n",
       " '748e74a9-3bc1-41c9-aa2f-79ac6ba06243',\n",
       " '2799ecec-b32d-48d2-8fb2-a71c8dfff68c',\n",
       " '4890bcfd-d185-446b-8ff0-f81bf0495b66',\n",
       " '80dfc755-21c6-495e-b729-ee9618247bf8',\n",
       " '0aeb169f-abaf-4d30-a556-823ba6180b6c',\n",
       " '28c911f4-0b46-45a2-b15a-f9ccdac61e0d',\n",
       " 'f6e417cc-797e-466e-af06-5e9d32879468',\n",
       " '548cb17c-bea3-43b1-99e3-d4242242ff45',\n",
       " '85f6e83f-e8be-406a-a6ec-e5be6fd1eadd',\n",
       " '1734ad55-eb65-4136-82d0-d88b9c9be79c',\n",
       " '30433d35-c999-414e-8b19-17ea358d084f',\n",
       " '1d2892b5-01f8-4684-9d50-e7172d1e3a89',\n",
       " '555f0c87-9f67-4cb9-be40-68d362e0b5bd',\n",
       " '417ef24d-bcdf-467b-849b-5deed8d561f2',\n",
       " '3c3750da-7b75-49b3-a9c4-9ec6fb698a94',\n",
       " '61ff06e3-53bf-44ac-8b8a-ff4b8fc29b92',\n",
       " '54607bbc-47d5-4d3d-897e-207b2932c9fb',\n",
       " '95db06f9-a2e7-4bd0-91ed-2d2c4eec3657',\n",
       " 'ff66deea-4921-4a1c-b16c-c81a9db1c6b1',\n",
       " 'befac52f-87b4-472f-973b-1b34d22dfce7',\n",
       " 'd64c776b-58c9-4b56-b5b0-47eba0bcfc4c',\n",
       " '4fa88f54-def0-4db9-99cb-a3de68850278']"
      ]
     },
     "execution_count": 11,
     "metadata": {},
     "output_type": "execute_result"
    }
   ],
   "source": [
    "vector_store.add_documents(chunks)"
   ]
  },
  {
   "cell_type": "code",
   "execution_count": 12,
   "id": "5bf710f0",
   "metadata": {},
   "outputs": [],
   "source": [
    "vector_store.save_local(r'E:\\Python\\LLM\\NeuroHarshit\\Databases\\faiss_index')"
   ]
  },
  {
   "cell_type": "code",
   "execution_count": null,
   "id": "1a068732",
   "metadata": {},
   "outputs": [],
   "source": []
  }
 ],
 "metadata": {
  "kernelspec": {
   "display_name": "llm_env",
   "language": "python",
   "name": "python3"
  },
  "language_info": {
   "codemirror_mode": {
    "name": "ipython",
    "version": 3
   },
   "file_extension": ".py",
   "mimetype": "text/x-python",
   "name": "python",
   "nbconvert_exporter": "python",
   "pygments_lexer": "ipython3",
   "version": "3.12.7"
  }
 },
 "nbformat": 4,
 "nbformat_minor": 5
}
