{
 "cells": [
  {
   "cell_type": "code",
   "execution_count": 1,
   "id": "ee144c4a",
   "metadata": {},
   "outputs": [],
   "source": [
    "import faiss\n",
    "from langchain_community.document_loaders import DirectoryLoader\n",
    "from langchain_openai import OpenAIEmbeddings\n",
    "from langchain_text_splitters import RecursiveCharacterTextSplitter\n",
    "from langchain_community.vectorstores import FAISS\n",
    "from langchain_community.docstore.in_memory import InMemoryDocstore"
   ]
  },
  {
   "cell_type": "code",
   "execution_count": 2,
   "id": "5e9c180d",
   "metadata": {},
   "outputs": [],
   "source": [
    "DATA_DIR = r\"E:\\Python\\LLM\\NeuroHarshit\\Databases\\text_data\"\n",
    "EMBEDDING_MODEL = 'text-embedding-3-large'"
   ]
  },
  {
   "cell_type": "markdown",
   "id": "87522a2b",
   "metadata": {},
   "source": [
    "## Loading directory"
   ]
  },
  {
   "cell_type": "code",
   "execution_count": 3,
   "id": "8a950c3a",
   "metadata": {},
   "outputs": [
    {
     "name": "stderr",
     "output_type": "stream",
     "text": [
      "  0%|          | 0/8 [00:00<?, ?it/s]"
     ]
    },
    {
     "name": "stderr",
     "output_type": "stream",
     "text": [
      "libmagic is unavailable but assists in filetype detection. Please consider installing libmagic for better results.\n",
      "libmagic is unavailable but assists in filetype detection. Please consider installing libmagic for better results.\n",
      "libmagic is unavailable but assists in filetype detection. Please consider installing libmagic for better results.\n",
      "libmagic is unavailable but assists in filetype detection. Please consider installing libmagic for better results.\n",
      "Need to load profiles.\n",
      "short text: \"Experience:\". Defaulting to English.\n",
      "Need to load profiles.\n",
      "Need to load profiles.\n",
      "Need to load profiles.\n",
      "short text: \"Education:\". Defaulting to English.\n",
      "short text: \"Duration: 2022 - 2025\". Defaulting to English.\n",
      "short text: \"CGPA: 8.64\". Defaulting to English.\n",
      "short text: \"Description:\". Defaulting to English.\n",
      " 12%|█▎        | 1/8 [00:11<01:17, 11.08s/it]short text: \"Year of completion: 2022\". Defaulting to English.\n",
      "short text: \"Percentage: 87.00%\". Defaulting to English.\n",
      "short text: \"3. Secondary (Class X):\". Defaulting to English.\n",
      "libmagic is unavailable but assists in filetype detection. Please consider installing libmagic for better results.\n",
      "short text: \"Year of completion: 2020\". Defaulting to English.\n",
      "libmagic is unavailable but assists in filetype detection. Please consider installing libmagic for better results.\n",
      "short text: \"Percentage: 90.83%\". Defaulting to English.\n",
      "libmagic is unavailable but assists in filetype detection. Please consider installing libmagic for better results.\n",
      " 62%|██████▎   | 5/8 [00:11<00:05,  1.68s/it]libmagic is unavailable but assists in filetype detection. Please consider installing libmagic for better results.\n",
      "short text: \"Skills:\". Defaulting to English.\n",
      "short text: \"Programming Languages: Python\". Defaulting to English.\n",
      "short text: \"Databases: SQLite, FAISS, Chroma\". Defaulting to English.\n",
      "short text: \"GUI Development: Tkinter, CustomTkinter\". Defaulting to English.\n",
      "short text: \"Soft Skills: Problem-Solving, Self-Learning\". Defaulting to English.\n",
      "100%|██████████| 8/8 [00:12<00:00,  1.52s/it]\n"
     ]
    }
   ],
   "source": [
    "loader = DirectoryLoader(\n",
    "    path= DATA_DIR,\n",
    "    show_progress= True,\n",
    "    use_multithreading= True\n",
    ")\n",
    "docs = loader.load()"
   ]
  },
  {
   "cell_type": "code",
   "execution_count": 4,
   "id": "bce12d28",
   "metadata": {},
   "outputs": [
    {
     "data": {
      "text/plain": [
       "8"
      ]
     },
     "execution_count": 4,
     "metadata": {},
     "output_type": "execute_result"
    }
   ],
   "source": [
    "len(docs)"
   ]
  },
  {
   "cell_type": "markdown",
   "id": "3432399c",
   "metadata": {},
   "source": [
    "## Chunking"
   ]
  },
  {
   "cell_type": "code",
   "execution_count": 5,
   "id": "64ff0b88",
   "metadata": {},
   "outputs": [],
   "source": [
    "splitter = RecursiveCharacterTextSplitter(\n",
    "    chunk_size= 500,\n",
    "    chunk_overlap= 50\n",
    ")\n",
    "\n",
    "chunks = splitter.split_documents(docs)"
   ]
  },
  {
   "cell_type": "code",
   "execution_count": 6,
   "id": "dfb3095e",
   "metadata": {},
   "outputs": [
    {
     "data": {
      "text/plain": [
       "38"
      ]
     },
     "execution_count": 6,
     "metadata": {},
     "output_type": "execute_result"
    }
   ],
   "source": [
    "len(chunks)"
   ]
  },
  {
   "cell_type": "markdown",
   "id": "0e507ced",
   "metadata": {},
   "source": [
    "## Vector DB"
   ]
  },
  {
   "cell_type": "code",
   "execution_count": 7,
   "id": "22389fe9",
   "metadata": {},
   "outputs": [],
   "source": [
    "embeddings = OpenAIEmbeddings(model= EMBEDDING_MODEL)\n",
    "sample = embeddings.embed_query('hello world')\n",
    "length = len(sample)"
   ]
  },
  {
   "cell_type": "code",
   "execution_count": 8,
   "id": "f4b63061",
   "metadata": {},
   "outputs": [
    {
     "data": {
      "text/plain": [
       "3072"
      ]
     },
     "execution_count": 8,
     "metadata": {},
     "output_type": "execute_result"
    }
   ],
   "source": [
    "length"
   ]
  },
  {
   "cell_type": "code",
   "execution_count": 9,
   "id": "4257bd9d",
   "metadata": {},
   "outputs": [],
   "source": [
    "index = faiss.IndexFlatL2(length)"
   ]
  },
  {
   "cell_type": "code",
   "execution_count": 10,
   "id": "f381115d",
   "metadata": {},
   "outputs": [],
   "source": [
    "vector_store = FAISS(\n",
    "    embedding_function= embeddings,\n",
    "    index= index,\n",
    "    docstore= InMemoryDocstore(),\n",
    "    index_to_docstore_id= {}\n",
    ")"
   ]
  },
  {
   "cell_type": "code",
   "execution_count": 11,
   "id": "0b64595f",
   "metadata": {},
   "outputs": [
    {
     "data": {
      "text/plain": [
       "['c56b87f3-1836-4003-90b2-2ac5c3d9482f',\n",
       " '0d896d04-4c1e-4ae6-abd2-7fca5107c6bd',\n",
       " '1629e555-e67e-483b-8211-71b5e0cc132f',\n",
       " '8fc7dd41-9f0c-4073-9819-87dd37e51f80',\n",
       " '39304d9e-e077-4a89-866b-fa40e63d9580',\n",
       " '37bb8b5d-d019-4114-94f4-bca62a7c31c9',\n",
       " '0c3f39fd-6ce6-48e8-905e-f860dda156de',\n",
       " '04e96381-24ad-4e42-aa2b-a7524519c4e5',\n",
       " '9a893dfa-802e-4e43-94a3-4787c0264ae5',\n",
       " '35acb585-887f-47fe-b10e-2786b993f3bc',\n",
       " '47df8d59-0bad-4e2a-842a-4037fae506f1',\n",
       " '435fe3cc-4f43-4f93-b6e5-f76292b227a3',\n",
       " 'b967dba2-3db9-4cbe-be4f-dad3bd620b7a',\n",
       " 'a1ed23cd-44ad-4070-bb49-4dce56590930',\n",
       " '405e9bcb-69e0-42fe-80ba-cc6660d56950',\n",
       " '15d19ae1-6ecf-49ee-8d3d-c444ce3bf1f5',\n",
       " '47d15815-0e3f-4838-8590-1980221c6f67',\n",
       " '6f6fe53c-de6c-41b9-ba95-0eeb31267842',\n",
       " '6264eb35-70eb-4753-b330-a7ef1ad732b8',\n",
       " 'f4d77db7-d6da-458d-8846-5b1950f7c5a4',\n",
       " 'd0145d8c-3b9a-4d4e-8ca2-8b827251995d',\n",
       " '9f3b2dda-8237-474c-96e0-c2a0c426599f',\n",
       " '8c8dedfb-0ac4-4d5d-b841-7acdb53399c8',\n",
       " '162116bb-e2af-4b89-ace1-53234449184e',\n",
       " '81b4b365-d647-44cb-8917-9ea08d12e85a',\n",
       " '53af0101-3dc8-40ee-ad90-0b02893c7798',\n",
       " '31ffee06-0ec8-4087-9509-4f7ffc400b06',\n",
       " 'fa3620cd-f19a-40fc-a97b-e8dd31fa773e',\n",
       " '6834d1ff-cef6-45b2-a2f0-a976207fa8d6',\n",
       " '71b47a70-2db2-4501-805a-b0deb9e29c3c',\n",
       " 'e96a43e3-9e77-4071-b79f-e00587d605cc',\n",
       " 'f375a3d4-7903-4474-9ed8-9dcd07fefdd0',\n",
       " '43e9cf1a-d818-4f65-8e98-8ee67be4862e',\n",
       " '051b5716-3a8b-4383-997a-62a1d81620bb',\n",
       " '1579b476-c857-43bc-af7e-cc37c00662ec',\n",
       " '8f0de3cd-896e-40ca-9c72-59f1e806ac8e',\n",
       " 'c18d99a2-56fe-4ef3-b7bb-de1f7e626bca',\n",
       " '8b505cd2-ed40-4024-8eac-f425de0a467e']"
      ]
     },
     "execution_count": 11,
     "metadata": {},
     "output_type": "execute_result"
    }
   ],
   "source": [
    "vector_store.add_documents(chunks)"
   ]
  },
  {
   "cell_type": "code",
   "execution_count": 12,
   "id": "5bf710f0",
   "metadata": {},
   "outputs": [],
   "source": [
    "vector_store.save_local(r'E:\\Python\\LLM\\NeuroHarshit\\Databases\\faiss_index')"
   ]
  },
  {
   "cell_type": "code",
   "execution_count": null,
   "id": "1a068732",
   "metadata": {},
   "outputs": [],
   "source": []
  }
 ],
 "metadata": {
  "kernelspec": {
   "display_name": "llm_env",
   "language": "python",
   "name": "python3"
  },
  "language_info": {
   "codemirror_mode": {
    "name": "ipython",
    "version": 3
   },
   "file_extension": ".py",
   "mimetype": "text/x-python",
   "name": "python",
   "nbconvert_exporter": "python",
   "pygments_lexer": "ipython3",
   "version": "3.12.7"
  }
 },
 "nbformat": 4,
 "nbformat_minor": 5
}
