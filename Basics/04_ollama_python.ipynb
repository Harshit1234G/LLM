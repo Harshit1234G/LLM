{
 "cells": [
  {
   "cell_type": "code",
   "execution_count": 1,
   "id": "e06b933a",
   "metadata": {},
   "outputs": [],
   "source": [
    "from ollama import chat, ChatResponse"
   ]
  },
  {
   "cell_type": "markdown",
   "id": "ab08852a",
   "metadata": {},
   "source": [
    "## Simple chat"
   ]
  },
  {
   "cell_type": "code",
   "execution_count": 2,
   "id": "483069c1",
   "metadata": {},
   "outputs": [],
   "source": [
    "messages = [\n",
    "    {\n",
    "        'role': 'user',\n",
    "        'content': 'Hello'\n",
    "    },\n",
    "]"
   ]
  },
  {
   "cell_type": "code",
   "execution_count": 3,
   "id": "d57304f0",
   "metadata": {},
   "outputs": [],
   "source": [
    "response: ChatResponse = chat(\n",
    "    model= 'llama3.2',\n",
    "    messages= messages\n",
    ")"
   ]
  },
  {
   "cell_type": "code",
   "execution_count": 4,
   "id": "557f9be0",
   "metadata": {},
   "outputs": [
    {
     "data": {
      "text/plain": [
       "ChatResponse(model='llama3.2', created_at='2025-08-07T07:34:45.4782359Z', done=True, done_reason='stop', total_duration=1920539100, load_duration=63955200, prompt_eval_count=26, prompt_eval_duration=419873300, eval_count=10, eval_duration=1436203500, message=Message(role='assistant', content='Hello! How can I assist you today?', thinking=None, images=None, tool_name=None, tool_calls=None))"
      ]
     },
     "execution_count": 4,
     "metadata": {},
     "output_type": "execute_result"
    }
   ],
   "source": [
    "response"
   ]
  },
  {
   "cell_type": "code",
   "execution_count": 5,
   "id": "1cedc839",
   "metadata": {},
   "outputs": [
    {
     "data": {
      "text/plain": [
       "'Hello! How can I assist you today?'"
      ]
     },
     "execution_count": 5,
     "metadata": {},
     "output_type": "execute_result"
    }
   ],
   "source": [
    "response.message.content"
   ]
  },
  {
   "cell_type": "markdown",
   "id": "27eb6ab0",
   "metadata": {},
   "source": [
    "## Streaming"
   ]
  },
  {
   "cell_type": "code",
   "execution_count": 9,
   "id": "34cd382e",
   "metadata": {},
   "outputs": [],
   "source": [
    "stream: ChatResponse = chat(\n",
    "    model= 'llama3.2',\n",
    "    messages= messages,\n",
    "    stream= True\n",
    ")"
   ]
  },
  {
   "cell_type": "code",
   "execution_count": 10,
   "id": "e2d9d000",
   "metadata": {},
   "outputs": [
    {
     "name": "stdout",
     "output_type": "stream",
     "text": [
      "How\n",
      " can\n",
      " I\n",
      " assist\n",
      " you\n"
     ]
    }
   ],
   "source": [
    "for _ in range(5):\n",
    "    print(next(stream).message.content)"
   ]
  },
  {
   "cell_type": "markdown",
   "id": "c8670497",
   "metadata": {},
   "source": [
    "## Custom Client"
   ]
  },
  {
   "cell_type": "code",
   "execution_count": 14,
   "id": "631cb0a3",
   "metadata": {},
   "outputs": [],
   "source": [
    "from ollama import Client"
   ]
  },
  {
   "cell_type": "code",
   "execution_count": 15,
   "id": "fb10352f",
   "metadata": {},
   "outputs": [],
   "source": [
    "client = Client(\n",
    "  host= 'http://localhost:11434',\n",
    "  headers= {'x-some-header': 'some-value'}\n",
    ")"
   ]
  },
  {
   "cell_type": "code",
   "execution_count": 16,
   "id": "4bd3f09e",
   "metadata": {},
   "outputs": [
    {
     "data": {
      "text/plain": [
       "<ollama._client.Client at 0x225d74e4980>"
      ]
     },
     "execution_count": 16,
     "metadata": {},
     "output_type": "execute_result"
    }
   ],
   "source": [
    "client"
   ]
  },
  {
   "cell_type": "markdown",
   "id": "2aea6688",
   "metadata": {},
   "source": [
    "## API\n",
    "We can perform different CLI operations by just calling the functions like, `chat`, `generate`, `list`, `show`, `create`, `copy`, `delete`, `pull`, `push`, `embed`, etc."
   ]
  },
  {
   "cell_type": "code",
   "execution_count": 17,
   "id": "7d6d0342",
   "metadata": {},
   "outputs": [],
   "source": [
    "import ollama"
   ]
  },
  {
   "cell_type": "code",
   "execution_count": 18,
   "id": "6a1c4395",
   "metadata": {},
   "outputs": [
    {
     "data": {
      "text/plain": [
       "GenerateResponse(model='llama3.2', created_at='2025-08-07T07:45:28.8962786Z', done=True, done_reason='stop', total_duration=8137980900, load_duration=3527250500, prompt_eval_count=26, prompt_eval_duration=2982205600, eval_count=10, eval_duration=1621677000, response='Hello! How can I assist you today?', thinking=None, context=[128006, 9125, 128007, 271, 38766, 1303, 33025, 2696, 25, 6790, 220, 2366, 18, 271, 128009, 128006, 882, 128007, 271, 15339, 128009, 128006, 78191, 128007, 271, 9906, 0, 2650, 649, 358, 7945, 499, 3432, 30])"
      ]
     },
     "execution_count": 18,
     "metadata": {},
     "output_type": "execute_result"
    }
   ],
   "source": [
    "ollama.generate(model= 'llama3.2', prompt= 'hello')"
   ]
  },
  {
   "cell_type": "code",
   "execution_count": 19,
   "id": "b19d1e38",
   "metadata": {},
   "outputs": [
    {
     "data": {
      "text/plain": [
       "ListResponse(models=[Model(model='llava:latest', modified_at=datetime.datetime(2025, 8, 7, 10, 2, 1, 884373, tzinfo=TzInfo(+05:30)), digest='8dd30f6b0cb19f555f2c7a7ebda861449ea2cc76bf1f44e262931f45fc81d081', size=4733363377, details=ModelDetails(parent_model='', format='gguf', family='llama', families=['llama', 'clip'], parameter_size='7B', quantization_level='Q4_0')), Model(model='deepseek-r1:7b', modified_at=datetime.datetime(2025, 8, 7, 9, 52, 58, 493697, tzinfo=TzInfo(+05:30)), digest='755ced02ce7befdb13b7ca74e1e4d08cddba4986afdb63a480f2c93d3140383f', size=4683075440, details=ModelDetails(parent_model='', format='gguf', family='qwen2', families=['qwen2'], parameter_size='7.6B', quantization_level='Q4_K_M')), Model(model='mistral:latest', modified_at=datetime.datetime(2025, 8, 6, 17, 12, 40, 336287, tzinfo=TzInfo(+05:30)), digest='6577803aa9a036369e481d648a2baebb381ebc6e897f2bb9a766a2aa7bfbc1cf', size=4372824384, details=ModelDetails(parent_model='', format='gguf', family='llama', families=['llama'], parameter_size='7.2B', quantization_level='Q4_K_M')), Model(model='llama3.2:latest', modified_at=datetime.datetime(2025, 8, 6, 15, 13, 16, 56452, tzinfo=TzInfo(+05:30)), digest='a80c4f17acd55265feec403c7aef86be0c25983ab279d83f3bcd3abbcb5b8b72', size=2019393189, details=ModelDetails(parent_model='', format='gguf', family='llama', families=['llama'], parameter_size='3.2B', quantization_level='Q4_K_M'))])"
      ]
     },
     "execution_count": 19,
     "metadata": {},
     "output_type": "execute_result"
    }
   ],
   "source": [
    "ollama.list()"
   ]
  },
  {
   "cell_type": "code",
   "execution_count": null,
   "id": "cfc119b6",
   "metadata": {},
   "outputs": [],
   "source": []
  }
 ],
 "metadata": {
  "kernelspec": {
   "display_name": "llm_env",
   "language": "python",
   "name": "python3"
  },
  "language_info": {
   "codemirror_mode": {
    "name": "ipython",
    "version": 3
   },
   "file_extension": ".py",
   "mimetype": "text/x-python",
   "name": "python",
   "nbconvert_exporter": "python",
   "pygments_lexer": "ipython3",
   "version": "3.12.7"
  }
 },
 "nbformat": 4,
 "nbformat_minor": 5
}
