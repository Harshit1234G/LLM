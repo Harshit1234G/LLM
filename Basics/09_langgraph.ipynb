{
 "cells": [
  {
   "cell_type": "markdown",
   "id": "44fac8d1",
   "metadata": {},
   "source": [
    "## Simple Graph"
   ]
  },
  {
   "cell_type": "code",
   "execution_count": 1,
   "id": "b7ad566c",
   "metadata": {},
   "outputs": [],
   "source": [
    "from typing import TypedDict, Literal, Annotated\n",
    "from langgraph.graph import StateGraph, START, END\n",
    "from IPython.display import Image, display\n",
    "from langchain_ollama import ChatOllama\n",
    "from langgraph.graph.message import add_messages\n",
    "from langgraph.prebuilt import ToolNode, tools_condition\n",
    "from langchain_core.tools import tool"
   ]
  },
  {
   "cell_type": "code",
   "execution_count": 2,
   "id": "1ff1ec26",
   "metadata": {},
   "outputs": [],
   "source": [
    "class PortfolioState(TypedDict):\n",
    "    amount_usd: float\n",
    "    total_usd: float\n",
    "    total_inr: float"
   ]
  },
  {
   "cell_type": "code",
   "execution_count": 3,
   "id": "c3e1b762",
   "metadata": {},
   "outputs": [],
   "source": [
    "def calc_total(state: PortfolioState) -> PortfolioState:\n",
    "    state['total_usd'] = state['amount_usd'] * 1.08    # amount * return rate\n",
    "    return state"
   ]
  },
  {
   "cell_type": "code",
   "execution_count": 4,
   "id": "1193e751",
   "metadata": {},
   "outputs": [],
   "source": [
    "def to_inr(state: PortfolioState) -> PortfolioState:\n",
    "    state['total_inr'] = state['total_usd'] * 87.62\n",
    "    return state"
   ]
  },
  {
   "cell_type": "code",
   "execution_count": 5,
   "id": "624d7008",
   "metadata": {},
   "outputs": [],
   "source": [
    "# creating a state graph\n",
    "builder = StateGraph(PortfolioState)\n",
    "\n",
    "# adding nodes (functions)\n",
    "builder.add_node('calc_total_node', calc_total)\n",
    "builder.add_node('to_inr_node', to_inr)\n",
    "\n",
    "# adding edges\n",
    "builder.add_edge(START, 'calc_total_node')\n",
    "builder.add_edge('calc_total_node', 'to_inr_node')\n",
    "builder.add_edge('to_inr_node', END)\n",
    "\n",
    "# building graph\n",
    "graph = builder.compile()"
   ]
  },
  {
   "cell_type": "code",
   "execution_count": 6,
   "id": "ba09db28",
   "metadata": {},
   "outputs": [
    {
     "data": {
      "image/png": "[encoded data removed]",
      "text/plain": [
       "<IPython.core.display.Image object>"
      ]
     },
     "metadata": {},
     "output_type": "display_data"
    }
   ],
   "source": [
    "display(Image(graph.get_graph().draw_mermaid_png()))"
   ]
  },
  {
   "cell_type": "code",
   "execution_count": 7,
   "id": "7112cad5",
   "metadata": {},
   "outputs": [
    {
     "data": {
      "text/plain": [
       "{'amount_usd': 1000, 'total_usd': 1080.0, 'total_inr': 94629.6}"
      ]
     },
     "execution_count": 7,
     "metadata": {},
     "output_type": "execute_result"
    }
   ],
   "source": [
    "graph.invoke({'amount_usd': 1000})"
   ]
  },
  {
   "cell_type": "markdown",
   "id": "dd1b0e73",
   "metadata": {},
   "source": [
    "## Graph with condition"
   ]
  },
  {
   "cell_type": "code",
   "execution_count": 8,
   "id": "cb4e53e2",
   "metadata": {},
   "outputs": [],
   "source": [
    "class PortfolioState(TypedDict):\n",
    "    amount_usd: float\n",
    "    total_usd: float\n",
    "    conversion: Literal['INR', 'EUR']\n",
    "    total: float"
   ]
  },
  {
   "cell_type": "code",
   "execution_count": 9,
   "id": "c99f9892",
   "metadata": {},
   "outputs": [],
   "source": [
    "def usd_to_inr(state: PortfolioState) -> PortfolioState:\n",
    "    state['total'] = state['total_usd'] * 87.62\n",
    "    return state"
   ]
  },
  {
   "cell_type": "code",
   "execution_count": 10,
   "id": "abd89252",
   "metadata": {},
   "outputs": [],
   "source": [
    "def usd_to_eur(state: PortfolioState) -> PortfolioState:\n",
    "    state['total'] = state['total_usd'] * 0.86\n",
    "    return state"
   ]
  },
  {
   "cell_type": "code",
   "execution_count": 11,
   "id": "916194f9",
   "metadata": {},
   "outputs": [],
   "source": [
    "def choose_conversion(state: PortfolioState) -> str:\n",
    "    return state['conversion']"
   ]
  },
  {
   "cell_type": "code",
   "execution_count": 12,
   "id": "d6030813",
   "metadata": {},
   "outputs": [],
   "source": [
    "builder = StateGraph(PortfolioState)\n",
    "\n",
    "builder.add_node('calc_total_node', calc_total)\n",
    "builder.add_node('to_inr_node', usd_to_inr)\n",
    "builder.add_node('to_eur_node', usd_to_eur)\n",
    "\n",
    "builder.add_edge(START, 'calc_total_node')\n",
    "\n",
    "# conditional edge\n",
    "builder.add_conditional_edges(\n",
    "    'calc_total_node',\n",
    "    choose_conversion,\n",
    "    {\n",
    "        'INR': 'to_inr_node',\n",
    "        'EUR': 'to_eur_node'\n",
    "    }\n",
    ")\n",
    "\n",
    "builder.add_edge(['to_inr_node', 'to_eur_node'], END)\n",
    "\n",
    "graph = builder.compile()"
   ]
  },
  {
   "cell_type": "code",
   "execution_count": 13,
   "id": "696438f9",
   "metadata": {},
   "outputs": [
    {
     "data": {
      "image/png": "[encoded data removed]",
      "text/plain": [
       "<IPython.core.display.Image object>"
      ]
     },
     "metadata": {},
     "output_type": "display_data"
    }
   ],
   "source": [
    "display(Image(graph.get_graph().draw_mermaid_png()))"
   ]
  },
  {
   "cell_type": "code",
   "execution_count": 14,
   "id": "2977b0db",
   "metadata": {},
   "outputs": [
    {
     "data": {
      "text/plain": [
       "{'amount_usd': 1490,\n",
       " 'total_usd': 1609.2,\n",
       " 'conversion': 'EUR',\n",
       " 'total': 1383.912}"
      ]
     },
     "execution_count": 14,
     "metadata": {},
     "output_type": "execute_result"
    }
   ],
   "source": [
    "graph.invoke({'amount_usd': 1490, 'conversion': 'EUR'})"
   ]
  },
  {
   "cell_type": "markdown",
   "id": "3f752cba",
   "metadata": {},
   "source": [
    "## Chatbot in langgraph"
   ]
  },
  {
   "cell_type": "code",
   "execution_count": 15,
   "id": "dc42b5f6",
   "metadata": {},
   "outputs": [],
   "source": [
    "llm = ChatOllama(model= 'llama3.2')"
   ]
  },
  {
   "cell_type": "code",
   "execution_count": 16,
   "id": "98a52e20",
   "metadata": {},
   "outputs": [],
   "source": [
    "class State(TypedDict):\n",
    "    messages: Annotated[list, add_messages]"
   ]
  },
  {
   "cell_type": "code",
   "execution_count": 17,
   "id": "c5696842",
   "metadata": {},
   "outputs": [],
   "source": [
    "def chatbot(state: State) -> State:\n",
    "    return {'messages': [llm.invoke(state['messages'])]}"
   ]
  },
  {
   "cell_type": "code",
   "execution_count": 18,
   "id": "9f68db72",
   "metadata": {},
   "outputs": [],
   "source": [
    "builder = StateGraph(State)\n",
    "builder.add_node('chatbot_node', chatbot)\n",
    "\n",
    "builder.add_edge(START, 'chatbot_node')\n",
    "builder.add_edge('chatbot_node', END)\n",
    "\n",
    "graph = builder.compile()"
   ]
  },
  {
   "cell_type": "code",
   "execution_count": 19,
   "id": "95f03745",
   "metadata": {},
   "outputs": [
    {
     "data": {
      "text/plain": [
       "[HumanMessage(content='Who walked on the moon for the first time? Print only the name.', additional_kwargs={}, response_metadata={}, id='e2bbd368-bc61-44de-a816-a1dd4e71e5eb'),\n",
       " AIMessage(content='Neil Armstrong', additional_kwargs={}, response_metadata={'model': 'llama3.2', 'created_at': '2025-08-13T11:03:42.5489518Z', 'done': True, 'done_reason': 'stop', 'total_duration': 7700685200, 'load_duration': 4032679200, 'prompt_eval_count': 40, 'prompt_eval_duration': 3398019300, 'eval_count': 3, 'eval_duration': 261284900, 'model_name': 'llama3.2'}, id='run--22b8b34e-858c-4e1e-9fa7-358d159ff5ba-0', usage_metadata={'input_tokens': 40, 'output_tokens': 3, 'total_tokens': 43})]"
      ]
     },
     "execution_count": 19,
     "metadata": {},
     "output_type": "execute_result"
    }
   ],
   "source": [
    "messages = {'role': 'user', 'content': 'Who walked on the moon for the first time? Print only the name.'}\n",
    "response = graph.invoke({'messages': [messages]})\n",
    "\n",
    "response['messages']"
   ]
  },
  {
   "cell_type": "code",
   "execution_count": 27,
   "id": "f8df2c38",
   "metadata": {},
   "outputs": [
    {
     "name": "stdout",
     "output_type": "stream",
     "text": [
      "You: Who walked on the moon for the first time? Print only the name.\n",
      "Bot: Neil Armstrong\n",
      "You: In which year\n",
      "Bot: 1969\n",
      "You: who was the second\n",
      "Bot: Edwin \"Buzz\" Aldrin\n",
      "You: In which rocket does Neil went there?\n",
      "Bot: Apollo 11\n",
      "You: who built apollo 11\n",
      "Bot: NASA (National Aeronautics and Space Administration)\n"
     ]
    }
   ],
   "source": [
    "state: State | None = None\n",
    "\n",
    "while True:\n",
    "    message = input('You: ')\n",
    "\n",
    "    if message.lower() in {'quit', 'exit'}:\n",
    "        break\n",
    "\n",
    "    if state is None:\n",
    "        state = {\n",
    "            'messages': [{'role': 'user', 'content': message}]\n",
    "        }\n",
    "\n",
    "    else:\n",
    "        state['messages'].append({'role': 'user', 'content': message})\n",
    "\n",
    "    state = graph.invoke(state)\n",
    "    print('You:', state['messages'][-2].content)\n",
    "    print('Bot:', state['messages'][-1].content)"
   ]
  },
  {
   "cell_type": "markdown",
   "id": "90cf390c",
   "metadata": {},
   "source": [
    "## Chatbot with Tool"
   ]
  },
  {
   "cell_type": "code",
   "execution_count": 20,
   "id": "ef22a0de",
   "metadata": {},
   "outputs": [],
   "source": [
    "# this could be any API or tool\n",
    "\n",
    "@tool\n",
    "def get_stock_price(symbol: str) -> float:\n",
    "    # docstring is necessary, or we can give description in @tool\n",
    "    \"\"\"Return the current price of a stock given the stock symbol\n",
    "    :param symbol: stock symbol\n",
    "    :return: current price of the stock\n",
    "    \"\"\"\n",
    "    return {\n",
    "        'MSFT': 200.3,\n",
    "        'AAPL': 100.4,\n",
    "        'AMZN': 150.2,\n",
    "        'RIL': 87.6\n",
    "    }.get(symbol, 0.0)"
   ]
  },
  {
   "cell_type": "code",
   "execution_count": 21,
   "id": "5970e8e0",
   "metadata": {},
   "outputs": [],
   "source": [
    "tools = [get_stock_price]\n",
    "llm_with_tools = llm.bind_tools(tools)"
   ]
  },
  {
   "cell_type": "code",
   "execution_count": 22,
   "id": "1ccbe532",
   "metadata": {},
   "outputs": [],
   "source": [
    "def chatbot(state: State) -> dict:\n",
    "    return {'messages': [llm_with_tools.invoke(state['messages'])]}"
   ]
  },
  {
   "cell_type": "code",
   "execution_count": 23,
   "id": "9b085754",
   "metadata": {},
   "outputs": [],
   "source": [
    "builder = StateGraph(State)\n",
    "builder.add_node(chatbot)\n",
    "builder.add_node('tools', ToolNode(tools))\n",
    "\n",
    "builder.add_edge(START, 'chatbot')\n",
    "builder.add_conditional_edges('chatbot', tools_condition)\n",
    "builder.add_edge('tools', 'chatbot')\n",
    "\n",
    "graph = builder.compile()"
   ]
  },
  {
   "cell_type": "code",
   "execution_count": 24,
   "id": "43842f10",
   "metadata": {},
   "outputs": [
    {
     "data": {
      "image/png": "[encoded data removed]",
      "text/plain": [
       "<IPython.core.display.Image object>"
      ]
     },
     "metadata": {},
     "output_type": "display_data"
    }
   ],
   "source": [
    "display(Image(graph.get_graph().draw_mermaid_png()))"
   ]
  },
  {
   "cell_type": "code",
   "execution_count": 25,
   "id": "2f87b479",
   "metadata": {},
   "outputs": [
    {
     "data": {
      "text/plain": [
       "'The current price of the AMZN stock is $150.20 per share. Please note that stock prices can fluctuate rapidly and may change since the last update. For the most up-to-date pricing, I recommend checking a reliable financial website or service, such as Yahoo Finance or Google Finance, for the latest information.'"
      ]
     },
     "execution_count": 25,
     "metadata": {},
     "output_type": "execute_result"
    }
   ],
   "source": [
    "state = graph.invoke({'messages': [{'role': 'user', 'content': 'What is the price of the AMZN stock right now?'}]})\n",
    "state['messages'][-1].content"
   ]
  },
  {
   "cell_type": "code",
   "execution_count": 26,
   "id": "c1a86f4f",
   "metadata": {},
   "outputs": [
    {
     "data": {
      "text/plain": [
       "'Albert Einstein'"
      ]
     },
     "execution_count": 26,
     "metadata": {},
     "output_type": "execute_result"
    }
   ],
   "source": [
    "state = graph.invoke({'messages': [{'role': 'user', 'content': 'Who invented the theory of relativity? Give person name only'}]})\n",
    "state['messages'][-1].content"
   ]
  },
  {
   "cell_type": "code",
   "execution_count": 27,
   "id": "7724d23a",
   "metadata": {},
   "outputs": [
    {
     "name": "stdout",
     "output_type": "stream",
     "text": [
      "Based on the current stock prices, \n",
      "\n",
      "20 AMZN stocks at $150.2 per share would cost 20 x $150.2 = $3004.00\n",
      "15 MSFT stocks at $200.3 per share would cost 15 x $200.3 = $3004.55\n",
      "\n",
      "The total cost for both purchases is $3004.00 + $3004.55 = $6008.55\n"
     ]
    }
   ],
   "source": [
    "state = graph.invoke({'messages': [{'role': 'user', 'content': 'I want to buy 20 AMZN stocks using current price. Then I want to purchase 15 MSFT. What will be the total cost?'}]})\n",
    "print(state['messages'][-1].content)"
   ]
  },
  {
   "cell_type": "markdown",
   "id": "4b845425",
   "metadata": {},
   "source": [
    "## Memory"
   ]
  },
  {
   "cell_type": "code",
   "execution_count": 28,
   "id": "1a9d348b",
   "metadata": {},
   "outputs": [],
   "source": [
    "from langgraph.checkpoint.memory import MemorySaver"
   ]
  },
  {
   "cell_type": "code",
   "execution_count": 29,
   "id": "d1099b88",
   "metadata": {},
   "outputs": [],
   "source": [
    "memory = MemorySaver()"
   ]
  },
  {
   "cell_type": "code",
   "execution_count": 30,
   "id": "645028ec",
   "metadata": {},
   "outputs": [],
   "source": [
    "memory_graph = builder.compile(checkpointer= memory)"
   ]
  },
  {
   "cell_type": "code",
   "execution_count": 31,
   "id": "3a6fd71d",
   "metadata": {},
   "outputs": [],
   "source": [
    "config = {\n",
    "    'configurable': {'thread_id': '1'}\n",
    "}"
   ]
  },
  {
   "cell_type": "code",
   "execution_count": 32,
   "id": "daf92dba",
   "metadata": {},
   "outputs": [
    {
     "name": "stdout",
     "output_type": "stream",
     "text": [
      "Based on the current prices, the total cost for buying 20 AMZN stocks and 15 MSFT would be:\n",
      "\n",
      "20 x $150.2 = $3004\n",
      "15 x $200.3 = $3014.5\n",
      "\n",
      "The total cost would be: $3004 + $3014.5 = $6018.5\n"
     ]
    }
   ],
   "source": [
    "msg = 'I want to buy 20 AMZN stocks using current price. Then I want to purchase 15 MSFT. What will be the total cost'\n",
    "\n",
    "state = memory_graph.invoke(\n",
    "    input= {'messages': [{'role': 'user', 'content': msg}]}, \n",
    "    config= config\n",
    ")\n",
    "response = state['messages'][-1].content\n",
    "print(response)"
   ]
  },
  {
   "cell_type": "code",
   "execution_count": 33,
   "id": "5a167763",
   "metadata": {},
   "outputs": [
    {
     "name": "stdout",
     "output_type": "stream",
     "text": [
      "The current price of 1 stock of RIL is $87.6.\n",
      "\n",
      "To find the total price of 10 stocks:\n",
      "10 x $87.6 = $876\n",
      "\n",
      "Adding this to the previous total cost:\n",
      "$6018.5 + $876 = $6894.5\n"
     ]
    }
   ],
   "source": [
    "msg = 'Using the current price tell me the total price of 10 RIL stocks and add it to previous total cost'\n",
    "\n",
    "state = memory_graph.invoke(\n",
    "    input= {'messages': [{'role': 'user', 'content': msg}]}, \n",
    "    config= config\n",
    ")\n",
    "response = state['messages'][-1].content\n",
    "print(response)"
   ]
  },
  {
   "cell_type": "markdown",
   "id": "821a0dd8",
   "metadata": {},
   "source": [
    "## Human in the loop (HITL)"
   ]
  },
  {
   "cell_type": "code",
   "execution_count": 34,
   "id": "07ab6caf",
   "metadata": {},
   "outputs": [],
   "source": [
    "from langgraph.types import interrupt, Command"
   ]
  },
  {
   "cell_type": "code",
   "execution_count": 35,
   "id": "fa0fb9e6",
   "metadata": {},
   "outputs": [],
   "source": [
    "@tool\n",
    "def buy_stocks(symbol: str, quantity: int, total_price: float) -> str:\n",
    "    '''Buy stocks given the stock symbol and quantity'''\n",
    "    decision = interrupt(f\"Approve buying {quantity} {symbol} stocks for ${total_price:.2f}?\")\n",
    "\n",
    "    if decision == \"yes\":\n",
    "        return f\"You bought {quantity} shares of {symbol} for a total price of {total_price}\"\n",
    "    else:\n",
    "        return \"Buying declined.\""
   ]
  },
  {
   "cell_type": "code",
   "execution_count": 36,
   "id": "2e9c11fe",
   "metadata": {},
   "outputs": [],
   "source": [
    "tools = [get_stock_price, buy_stocks]\n",
    "\n",
    "llm_with_tools = llm.bind_tools(tools)"
   ]
  },
  {
   "cell_type": "code",
   "execution_count": 37,
   "id": "78ce9a32",
   "metadata": {},
   "outputs": [],
   "source": [
    "def chatbot_node(state: State):\n",
    "    msg = llm_with_tools.invoke(state[\"messages\"])\n",
    "    return {\"messages\": [msg]}"
   ]
  },
  {
   "cell_type": "code",
   "execution_count": 40,
   "id": "31affb0e",
   "metadata": {},
   "outputs": [],
   "source": [
    "memory = MemorySaver()\n",
    "builder = StateGraph(State)\n",
    "builder.add_node(\"chatbot\", chatbot_node)\n",
    "builder.add_node(\"tools\", ToolNode(tools))\n",
    "builder.add_edge(START, \"chatbot\")\n",
    "builder.add_conditional_edges(\"chatbot\", tools_condition)\n",
    "builder.add_edge(\"tools\", \"chatbot\")\n",
    "builder.add_edge(\"chatbot\", END)\n",
    "graph = builder.compile(checkpointer= memory)"
   ]
  },
  {
   "cell_type": "code",
   "execution_count": 41,
   "id": "758158f1",
   "metadata": {},
   "outputs": [],
   "source": [
    "config = {\"configurable\": {\"thread_id\": \"buy_thread\"}}"
   ]
  },
  {
   "cell_type": "code",
   "execution_count": 42,
   "id": "24c936ee",
   "metadata": {},
   "outputs": [
    {
     "name": "stdout",
     "output_type": "stream",
     "text": [
      "The current price of 10 MSFT stocks is approximately $200.30 per share. Please note that stock prices can fluctuate rapidly and may have changed since the last update. For the most up-to-date information, I recommend checking a reliable financial website or platform.\n"
     ]
    }
   ],
   "source": [
    "state = graph.invoke({\"messages\":[{\"role\":\"user\",\"content\":\"What is the current price of 10 MSFT stocks?\"}]}, config=config)\n",
    "print(state[\"messages\"][-1].content)"
   ]
  },
  {
   "cell_type": "code",
   "execution_count": 43,
   "id": "dfae95c6",
   "metadata": {},
   "outputs": [
    {
     "name": "stdout",
     "output_type": "stream",
     "text": [
      "[Interrupt(value='Approve buying 10 MSFT stocks for $200.30?', id='04e990031252ec8d139b54a31420a554')]\n"
     ]
    }
   ],
   "source": [
    "state = graph.invoke({\"messages\":[{\"role\":\"user\",\"content\":\"Buy 10 MSFT stocks at current price.\"}]}, config=config)\n",
    "print(state.get(\"__interrupt__\"))"
   ]
  },
  {
   "cell_type": "code",
   "execution_count": 44,
   "id": "be6322c7",
   "metadata": {},
   "outputs": [
    {
     "name": "stdout",
     "output_type": "stream",
     "text": [
      "Congratulations! You have successfully purchased 10 shares of Microsoft (MSFT) stock at the current market price of $200.30 per share. Your total investment is $2,003.\n",
      "\n",
      "Please note that this is a simulated transaction and not actual buying or selling activity. If you'd like to simulate further trades or transactions, feel free to let me know!\n"
     ]
    }
   ],
   "source": [
    "decision = input(\"Approve (yes/no): \")\n",
    "state = graph.invoke(Command(resume=decision), config=config)\n",
    "print(state[\"messages\"][-1].content)"
   ]
  },
  {
   "cell_type": "code",
   "execution_count": null,
   "id": "be5f80e3",
   "metadata": {},
   "outputs": [],
   "source": []
  }
 ],
 "metadata": {
  "kernelspec": {
   "display_name": "llm_env",
   "language": "python",
   "name": "python3"
  },
  "language_info": {
   "codemirror_mode": {
    "name": "ipython",
    "version": 3
   },
   "file_extension": ".py",
   "mimetype": "text/x-python",
   "name": "python",
   "nbconvert_exporter": "python",
   "pygments_lexer": "ipython3",
   "version": "3.12.7"
  }
 },
 "nbformat": 4,
 "nbformat_minor": 5
}
