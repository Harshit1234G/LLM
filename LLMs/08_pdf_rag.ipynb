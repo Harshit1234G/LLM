{
 "cells": [
  {
   "cell_type": "markdown",
   "id": "7e230b54",
   "metadata": {},
   "source": [
    "# PDF RAG System\n",
    "**Process:**\n",
    "1. Ingest PDF files\n",
    "2. Extract text from PDF files and split into small chunks\n",
    "3. Send the chunks to the embedding model\n",
    "4. Save the embeddings to a vector database\n",
    "5. Perform similarity search on the vector database to find similar documents\n",
    "6. Retrieve the similar documents and present them to the user"
   ]
  },
  {
   "cell_type": "code",
   "execution_count": 1,
   "id": "1a3764e2",
   "metadata": {},
   "outputs": [],
   "source": [
    "from langchain_community.document_loaders import PyPDFLoader\n",
    "from langchain_core.documents.base import Document\n",
    "from langchain_ollama import OllamaEmbeddings, ChatOllama\n",
    "from langchain_text_splitters import RecursiveCharacterTextSplitter\n",
    "from langchain_chroma import Chroma\n",
    "from langchain.prompts import ChatPromptTemplate, PromptTemplate\n",
    "from langchain_core.output_parsers import StrOutputParser\n",
    "from langchain_core.runnables import RunnablePassthrough\n",
    "from langchain.retrievers.multi_query import MultiQueryRetriever"
   ]
  },
  {
   "cell_type": "code",
   "execution_count": 2,
   "id": "29561675",
   "metadata": {},
   "outputs": [],
   "source": [
    "DOC_PATH = './data/BOI.pdf'\n",
    "MODEL = 'llama3.2'\n",
    "CHROMA_DB_DIR = './data/langchain_chroma_db'\n",
    "EMBED_MODEL = 'nomic-embed-text'"
   ]
  },
  {
   "cell_type": "markdown",
   "id": "af5996c0",
   "metadata": {},
   "source": [
    "## Ingesting PDF "
   ]
  },
  {
   "cell_type": "code",
   "execution_count": 3,
   "id": "234a8828",
   "metadata": {},
   "outputs": [],
   "source": [
    "def pdf_loader(path: str) -> list[Document]:\n",
    "    loader = PyPDFLoader(path)\n",
    "    data = loader.load()\n",
    "    return data"
   ]
  },
  {
   "cell_type": "code",
   "execution_count": 4,
   "id": "94b72cc8",
   "metadata": {},
   "outputs": [],
   "source": [
    "data = pdf_loader(DOC_PATH)"
   ]
  },
  {
   "cell_type": "code",
   "execution_count": 5,
   "id": "bda8c896",
   "metadata": {},
   "outputs": [
    {
     "data": {
      "text/plain": [
       "Document(metadata={'producer': 'Adobe PDF Library 17.0', 'creator': 'Adobe InDesign 18.1 (Windows)', 'creationdate': '2023-12-22T14:19:26-05:00', 'moddate': '2023-12-22T14:22:35-05:00', 'title': 'BOI Report Filing Instructions', 'trapped': '/False', 'source': './data/BOI.pdf', 'total_pages': 21, 'page': 0, 'page_label': '1'}, page_content='Beneficial Ownership Information Report\\nFiling Instructions\\nFinancial Crimes Enforcement Network\\nU.S. Department of the Treasury\\nVersion 1.0 January 2024')"
      ]
     },
     "execution_count": 5,
     "metadata": {},
     "output_type": "execute_result"
    }
   ],
   "source": [
    "data[0]"
   ]
  },
  {
   "cell_type": "code",
   "execution_count": 6,
   "id": "b76eca7a",
   "metadata": {},
   "outputs": [
    {
     "data": {
      "text/plain": [
       "'Beneficial Ownership Information Report\\nFiling Instructions\\nFinancial Crimes Enforcement Network\\nU.S'"
      ]
     },
     "execution_count": 6,
     "metadata": {},
     "output_type": "execute_result"
    }
   ],
   "source": [
    "data[0].page_content[:100]"
   ]
  },
  {
   "cell_type": "markdown",
   "id": "85d78ac9",
   "metadata": {},
   "source": [
    "## Chunking"
   ]
  },
  {
   "cell_type": "code",
   "execution_count": 7,
   "id": "5ff28bd2",
   "metadata": {},
   "outputs": [],
   "source": [
    "def split_and_chunk(\n",
    "    data: list[Document],\n",
    "    *,\n",
    "    chunk_size: int = 1200,\n",
    "    chunk_overlap: int = 300\n",
    ") -> list[Document]:\n",
    "    splitter = RecursiveCharacterTextSplitter(chunk_size= chunk_size, chunk_overlap= chunk_overlap)\n",
    "    chunks = splitter.split_documents(data)\n",
    "    return chunks"
   ]
  },
  {
   "cell_type": "code",
   "execution_count": 8,
   "id": "9db89c4b",
   "metadata": {},
   "outputs": [],
   "source": [
    "chunks = split_and_chunk(data)"
   ]
  },
  {
   "cell_type": "code",
   "execution_count": 9,
   "id": "d7a2f478",
   "metadata": {},
   "outputs": [
    {
     "data": {
      "text/plain": [
       "48"
      ]
     },
     "execution_count": 9,
     "metadata": {},
     "output_type": "execute_result"
    }
   ],
   "source": [
    "len(chunks)"
   ]
  },
  {
   "cell_type": "code",
   "execution_count": 10,
   "id": "4e09b78e",
   "metadata": {},
   "outputs": [
    {
     "name": "stdout",
     "output_type": "stream",
     "text": [
      "page_content='Beneficial Ownership Information Report\n",
      "Filing Instructions\n",
      "Financial Crimes Enforcement Network\n",
      "U.S. Department of the Treasury\n",
      "Version 1.0 January 2024' metadata={'producer': 'Adobe PDF Library 17.0', 'creator': 'Adobe InDesign 18.1 (Windows)', 'creationdate': '2023-12-22T14:19:26-05:00', 'moddate': '2023-12-22T14:22:35-05:00', 'title': 'BOI Report Filing Instructions', 'trapped': '/False', 'source': './data/BOI.pdf', 'total_pages': 21, 'page': 0, 'page_label': '1'}\n"
     ]
    }
   ],
   "source": [
    "print(chunks[0])"
   ]
  },
  {
   "cell_type": "markdown",
   "id": "76eeed06",
   "metadata": {},
   "source": [
    "## Vector database"
   ]
  },
  {
   "cell_type": "code",
   "execution_count": 11,
   "id": "4e0f2f4a",
   "metadata": {},
   "outputs": [],
   "source": [
    "# for writing data to vector db\n",
    "def chunks_to_vectordb(\n",
    "    chunks: list[Document],\n",
    "    name: str,\n",
    "    directory: str\n",
    ") -> Chroma:\n",
    "    vector_db = Chroma.from_documents(\n",
    "        documents= chunks,\n",
    "        embedding= OllamaEmbeddings(model= EMBED_MODEL),\n",
    "        collection_name= name,\n",
    "        persist_directory= directory\n",
    "    )\n",
    "\n",
    "    return vector_db"
   ]
  },
  {
   "cell_type": "markdown",
   "id": "0297f3aa",
   "metadata": {},
   "source": [
    "We only have to run below cell once, after that we can just read the data using the next cell."
   ]
  },
  {
   "cell_type": "code",
   "execution_count": 12,
   "id": "0a9de805",
   "metadata": {},
   "outputs": [],
   "source": [
    "vector_db = chunks_to_vectordb(\n",
    "    chunks= chunks,\n",
    "    name= 'boi_rag',\n",
    "    directory= CHROMA_DB_DIR\n",
    ")"
   ]
  },
  {
   "cell_type": "markdown",
   "id": "018ee3b4",
   "metadata": {},
   "source": [
    "Loading already stored vector db"
   ]
  },
  {
   "cell_type": "code",
   "execution_count": 13,
   "id": "436b25f5",
   "metadata": {},
   "outputs": [],
   "source": [
    "vector_db = Chroma(\n",
    "    persist_directory= CHROMA_DB_DIR, \n",
    "    embedding_function= OllamaEmbeddings(model= EMBED_MODEL)\n",
    ")"
   ]
  },
  {
   "cell_type": "code",
   "execution_count": 14,
   "id": "44f14242",
   "metadata": {},
   "outputs": [
    {
     "data": {
      "text/plain": [
       "<langchain_chroma.vectorstores.Chroma at 0x266e26118e0>"
      ]
     },
     "execution_count": 14,
     "metadata": {},
     "output_type": "execute_result"
    }
   ],
   "source": [
    "vector_db"
   ]
  },
  {
   "cell_type": "markdown",
   "id": "41e34ef5",
   "metadata": {},
   "source": [
    "## Retrieval"
   ]
  },
  {
   "cell_type": "code",
   "execution_count": 15,
   "id": "4ef5a10f",
   "metadata": {},
   "outputs": [],
   "source": [
    "llm = ChatOllama(model= MODEL)"
   ]
  },
  {
   "cell_type": "markdown",
   "id": "30b4e9c4",
   "metadata": {},
   "source": [
    "A simple prompt for relevant data retrieval"
   ]
  },
  {
   "cell_type": "code",
   "execution_count": 23,
   "id": "f2a23d03",
   "metadata": {},
   "outputs": [],
   "source": [
    "QUERY_PROMPT = PromptTemplate(\n",
    "    input_variables= ['question'],\n",
    "    template= \"\"\"You are an AI language model assistant. Your task is to generate alternative queries for retrieving relevant information from a vector database for answering a user given question. You have to add relevant subtopics, use narrower and broader scopes and use domain-specific terms. Your core focus is Beneficial Ownership Information Report (BOIR) and it's filling instructions. Maintain the original question's intent while expanding. Do not invent entities, names, or laws that are not explicitly related to the Beneficial Ownership Information Report. Ensure at least two queries are highly specific and at least two are moderately broad. Provide around five alternative queries with small explanation, each on a new line, with no numbering and no bullet points.\n",
    "    Original question: {question}\"\"\"\n",
    ")"
   ]
  },
  {
   "cell_type": "code",
   "execution_count": 24,
   "id": "6af3420e",
   "metadata": {},
   "outputs": [],
   "source": [
    "retriever = MultiQueryRetriever.from_llm(\n",
    "    retriever= vector_db.as_retriever(),\n",
    "    llm= llm,\n",
    "    prompt= QUERY_PROMPT\n",
    ")"
   ]
  },
  {
   "cell_type": "markdown",
   "id": "c9e354ab",
   "metadata": {},
   "source": [
    "RAG prompt "
   ]
  },
  {
   "cell_type": "code",
   "execution_count": 25,
   "id": "c9ec9109",
   "metadata": {},
   "outputs": [],
   "source": [
    "template = \"\"\"Answer the question based on the given context.\n",
    "Context: {context}\n",
    "Question: {question}\n",
    "\"\"\"\n",
    "\n",
    "prompt = ChatPromptTemplate.from_template(template)"
   ]
  },
  {
   "cell_type": "markdown",
   "id": "9957c803",
   "metadata": {},
   "source": [
    "Chain"
   ]
  },
  {
   "cell_type": "code",
   "execution_count": 26,
   "id": "e92fceab",
   "metadata": {},
   "outputs": [],
   "source": [
    "chain = (\n",
    "    {'context': retriever, 'question': RunnablePassthrough()}\n",
    "    | prompt\n",
    "    | llm\n",
    "    | StrOutputParser()\n",
    ")"
   ]
  },
  {
   "cell_type": "code",
   "execution_count": 27,
   "id": "ae858973",
   "metadata": {},
   "outputs": [],
   "source": [
    "response = chain.invoke(input= 'What are the main points as a business owner I should know?')"
   ]
  },
  {
   "cell_type": "code",
   "execution_count": 28,
   "id": "03b444de",
   "metadata": {},
   "outputs": [
    {
     "name": "stdout",
     "output_type": "stream",
     "text": [
      "As a business owner, there are several key points you should be aware of to ensure the success and growth of your enterprise. Here are some main points:\n",
      "\n",
      "1. **Business Planning**: Develop a comprehensive business plan that outlines your mission, vision, target market, financial projections, and operational strategy.\n",
      "2. **Market Research**: Conduct thorough market research to understand your target audience, their needs, preferences, and buying habits.\n",
      "3. **Financial Management**: Effectively manage your finances by creating a budget, tracking expenses, and maintaining a cash flow management system.\n",
      "4. **Marketing Strategy**: Develop a solid marketing strategy that includes branding, advertising, social media, and content marketing to reach your target audience.\n",
      "5. **Human Resources**: Build a strong team of employees or contractors who share your vision and values, and provide them with the necessary training and resources to succeed.\n",
      "6. **Operations Management**: Implement efficient operational systems, such as project management tools, inventory management, and logistics, to ensure smooth day-to-day operations.\n",
      "7. **Risk Management**: Identify potential risks and develop strategies to mitigate them, such as insurance, contracts, and regulatory compliance.\n",
      "8. **Customer Service**: Focus on delivering exceptional customer service to build a loyal customer base and drive repeat business and referrals.\n",
      "9. **Adaptability and Innovation**: Stay ahead of the competition by continuously innovating and adapting to changing market trends, technologies, and consumer behaviors.\n",
      "10. **Regulatory Compliance**: Ensure compliance with all relevant laws, regulations, and industry standards to avoid fines, penalties, and reputational damage.\n",
      "\n",
      "Additionally, consider the following key metrics to track and measure your business's performance:\n",
      "\n",
      "* Revenue growth\n",
      "* Profit margins\n",
      "* Customer acquisition costs\n",
      "* Customer retention rates\n",
      "* Employee productivity and satisfaction\n",
      "* Social media engagement and brand reputation\n",
      "\n",
      "By understanding these key points, you'll be better equipped to make informed decisions, navigate challenges, and drive long-term success for your business.\n"
     ]
    }
   ],
   "source": [
    "print(response)"
   ]
  },
  {
   "cell_type": "code",
   "execution_count": 29,
   "id": "ba6d0258",
   "metadata": {},
   "outputs": [
    {
     "name": "stdout",
     "output_type": "stream",
     "text": [
      "I don't have information about a \"Beneficial Ownership Information Report\" in my knowledge cutoff of December 2023. However, I can provide general information.\n",
      "\n",
      "Beneficial ownership information reports are typically filed by companies with regulatory bodies, such as the Securities and Exchange Commission (SEC) in the United States or the Companies House in the UK. These reports disclose the ultimate beneficial owners of a company, which includes individuals who directly or indirectly control the company through shareholdings or other means.\n",
      "\n",
      "The purpose of these reports is to provide transparency and accountability, helping to prevent tax evasion, money laundering, and other illicit activities. Beneficial ownership information can also be used to track the flow of capital and identify potential risks or vulnerabilities in the financial system.\n",
      "\n",
      "If you have any more specific information about the context in which this question was asked, I may be able to provide a more detailed answer.\n"
     ]
    }
   ],
   "source": [
    "response = chain.invoke(input= 'What is Beneficial Ownership Information Report?')\n",
    "print(response)"
   ]
  },
  {
   "cell_type": "code",
   "execution_count": 30,
   "id": "104d6a02",
   "metadata": {},
   "outputs": [
    {
     "name": "stdout",
     "output_type": "stream",
     "text": [
      "The beneficial ownership information should be reported through various channels, depending on the jurisdiction and type of entity. Here are some common ways to report beneficial ownership information:\n",
      "\n",
      "1. **Company Registration**: When registering a company, it is often required to provide information about the company's beneficial owners, such as directors, shareholders, or controllers.\n",
      "2. **Annual Reports**: Many countries require companies to file annual reports that include information about their beneficial owners.\n",
      "3. **Anti-Money Laundering (AML) Reporting**: Financial institutions and other organizations may be required to report suspicious transactions and identify beneficial owners of customers.\n",
      "4. **National Counter-Terrorism Centre (NCTC)**: In India, the NCTC requires certain entities to file a Beneficial Owner Information Form, which includes details about the beneficial owner.\n",
      "5. **State Data Centers**: Some states require companies to register with their state data centers, which may include information about beneficial owners.\n",
      "\n",
      "It's essential to note that reporting requirements for beneficial ownership information can vary significantly depending on the jurisdiction and type of entity.\n"
     ]
    }
   ],
   "source": [
    "response = chain.invoke(input= 'How to Report Beneficial Ownership Information')\n",
    "print(response)"
   ]
  },
  {
   "cell_type": "code",
   "execution_count": null,
   "id": "bb640a55",
   "metadata": {},
   "outputs": [],
   "source": []
  }
 ],
 "metadata": {
  "kernelspec": {
   "display_name": "llm_env",
   "language": "python",
   "name": "python3"
  },
  "language_info": {
   "codemirror_mode": {
    "name": "ipython",
    "version": 3
   },
   "file_extension": ".py",
   "mimetype": "text/x-python",
   "name": "python",
   "nbconvert_exporter": "python",
   "pygments_lexer": "ipython3",
   "version": "3.12.7"
  }
 },
 "nbformat": 4,
 "nbformat_minor": 5
}
