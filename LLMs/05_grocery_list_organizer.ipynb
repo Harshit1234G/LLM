{
 "cells": [
  {
   "cell_type": "code",
   "execution_count": 1,
   "id": "187b6443",
   "metadata": {},
   "outputs": [],
   "source": [
    "import ollama\n",
    "import os"
   ]
  },
  {
   "cell_type": "code",
   "execution_count": 7,
   "id": "f1a20310",
   "metadata": {},
   "outputs": [],
   "source": [
    "input_path = r'.\\data\\grocery_items.csv'\n",
    "output_path = r'.\\data\\categorized_grocery_list.csv'"
   ]
  },
  {
   "cell_type": "code",
   "execution_count": 8,
   "id": "5047e441",
   "metadata": {},
   "outputs": [],
   "source": [
    "assert os.path.exists(input_path), \"Path doesn't exists.\""
   ]
  },
  {
   "cell_type": "code",
   "execution_count": 9,
   "id": "7f25e825",
   "metadata": {},
   "outputs": [],
   "source": [
    "with open(input_path, 'r') as f:\n",
    "    items = f.read()"
   ]
  },
  {
   "cell_type": "code",
   "execution_count": 10,
   "id": "1dd59e33",
   "metadata": {},
   "outputs": [
    {
     "data": {
      "text/plain": [
       "'Pasta, Mangoes, Garlic, Avocados, Cauliflower, Cooking Oil, Blueberries, Tofu, Zucchini, Yogurt, Coffee, Broccoli, Lemons, Lettuce, Vinegar, Bananas, Cream, Pineapple, Rice, Carrots, Corn, Cheese, Cucumbers, Peas, Grapes, Chilies, Jam, Bell Peppers, pork, Tea, Salt, Oranges, Peanut Butter, Green Beans, Butter, Watermelon, Ginger, Cottage Cheese, Apples, Sugar, Milk, Spinach, Tomatoes, Limes, Honey, Onions, Bread, Potatoes, Strawberries, Eggs, Flour, Chicken'"
      ]
     },
     "execution_count": 10,
     "metadata": {},
     "output_type": "execute_result"
    }
   ],
   "source": [
    "items"
   ]
  },
  {
   "cell_type": "code",
   "execution_count": 19,
   "id": "f8016d57",
   "metadata": {},
   "outputs": [],
   "source": [
    "prompt = f\"\"\"\n",
    "You are an AI assistant that categorizes and sorts the provided grocery items.\n",
    "\n",
    "Grocery Items: ```{items}```\n",
    "\n",
    "Categorization criteria:\n",
    "1. Categorize into different categories like, `Fruits`, `Vegetables`, `Meat`, `Dairy Produce`, etc.\n",
    "2. Use bullet points for the items and bold headings for the categories.\n",
    "3. Sort the items alphabetically within each category.\n",
    "\"\"\""
   ]
  },
  {
   "cell_type": "code",
   "execution_count": 20,
   "id": "4f883e5e",
   "metadata": {},
   "outputs": [],
   "source": [
    "response = ollama.generate(\n",
    "    model= 'llama3.2',\n",
    "    prompt= prompt\n",
    ")"
   ]
  },
  {
   "cell_type": "code",
   "execution_count": 22,
   "id": "b7bbf9e6",
   "metadata": {},
   "outputs": [],
   "source": [
    "categorized_grocery_items = response.get('response', '')"
   ]
  },
  {
   "cell_type": "code",
   "execution_count": 23,
   "id": "f3bfdf13",
   "metadata": {},
   "outputs": [
    {
     "name": "stdout",
     "output_type": "stream",
     "text": [
      "Here is the sorted list of grocery items categorized by type:\n",
      "\n",
      "**Fruits**\n",
      "• Apples\n",
      "• Bananas\n",
      "• Blueberries\n",
      "• Grapes\n",
      "• Lemons\n",
      "• Mangoes\n",
      "• Oranges\n",
      "• Pineapple\n",
      "• Strawberries\n",
      "• Watermelon\n",
      "\n",
      "**Vegetables**\n",
      "• Bell Peppers\n",
      "• Broccoli\n",
      "• Carrots\n",
      "• Cauliflower\n",
      "• Chilies\n",
      "• Cucumbers\n",
      "• Green Beans\n",
      "• Lettuce\n",
      "• Onions\n",
      "• Potatoes\n",
      "• Spinach\n",
      "• Tomatoes\n",
      "• Zucchini\n",
      "\n",
      "**Meat**\n",
      "• Chicken\n",
      "• Pork\n",
      "\n",
      "**Dairy Produce**\n",
      "• Butter\n",
      "• Cheese\n",
      "• Cottage Cheese\n",
      "• Milk\n",
      "• Yogurt\n",
      "\n",
      "**Grains**\n",
      "• Bread\n",
      "• Flour\n",
      "• Pasta\n",
      "• Rice\n",
      "\n",
      "**Pantry**\n",
      "• Coffee\n",
      "• Cream\n",
      "• Jam\n",
      "• Peanut Butter\n",
      "• Sugar\n",
      "• Tea\n",
      "\n",
      "**Condiments**\n",
      "• Cooking Oil\n",
      "• Vinegar\n"
     ]
    }
   ],
   "source": [
    "print(categorized_grocery_items)"
   ]
  },
  {
   "cell_type": "code",
   "execution_count": 24,
   "id": "51ed1b44",
   "metadata": {},
   "outputs": [],
   "source": [
    "with open(output_path, 'w') as f:\n",
    "    f.write(categorized_grocery_items)"
   ]
  },
  {
   "cell_type": "code",
   "execution_count": null,
   "id": "e132d5b7",
   "metadata": {},
   "outputs": [],
   "source": []
  }
 ],
 "metadata": {
  "kernelspec": {
   "display_name": "llm_env",
   "language": "python",
   "name": "python3"
  },
  "language_info": {
   "codemirror_mode": {
    "name": "ipython",
    "version": 3
   },
   "file_extension": ".py",
   "mimetype": "text/x-python",
   "name": "python",
   "nbconvert_exporter": "python",
   "pygments_lexer": "ipython3",
   "version": "3.12.7"
  }
 },
 "nbformat": 4,
 "nbformat_minor": 5
}
